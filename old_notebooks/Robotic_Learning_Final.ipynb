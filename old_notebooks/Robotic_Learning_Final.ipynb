{
 "cells": [
  {
   "cell_type": "code",
   "execution_count": 0,
   "metadata": {
    "colab": {},
    "colab_type": "code",
    "id": "rsL_7JHVnC74"
   },
   "outputs": [],
   "source": [
    "import gym\n",
    "import random\n",
    "import time\n",
    "import pickle\n",
    "import itertools\n",
    "#from gym.envs.classic_control import rendering "
   ]
  },
  {
   "cell_type": "code",
   "execution_count": 0,
   "metadata": {
    "colab": {},
    "colab_type": "code",
    "id": "1TaRn7CjnC8F"
   },
   "outputs": [],
   "source": [
    "def repeat_upsample(rgb_array, k=1, l=1, err=[]):\n",
    "    # repeat kinda crashes if k/l are zero\n",
    "    if k <= 0 or l <= 0: \n",
    "        if not err: \n",
    "            print(\"Number of repeats must be larger than 0, k: {}, l: {}, returning default array!\".format(k, l))\n",
    "            err.append('logged')\n",
    "        return rgb_array\n",
    "\n",
    "    # repeat the pixels k times along the y axis and l times along the x axis\n",
    "    # if the input image is of shape (m,n,3), the output image will be of shape (k*m, l*n, 3)\n",
    "\n",
    "    return np.repeat(np.repeat(rgb_array, k, axis=0), l, axis=1)"
   ]
  },
  {
   "cell_type": "code",
   "execution_count": 0,
   "metadata": {
    "colab": {},
    "colab_type": "code",
    "id": "48bQI8g3nC8L"
   },
   "outputs": [],
   "source": [
    "viewer_S = rendering.SimpleImageViewer()\n",
    "viewer_A = rendering.SimpleImageViewer()\n",
    "viewer_D = rendering.SimpleImageViewer()"
   ]
  },
  {
   "cell_type": "code",
   "execution_count": 0,
   "metadata": {
    "colab": {},
    "colab_type": "code",
    "id": "tkuJa9dNnC8R",
    "outputId": "6eb1c3c8-89b3-44f3-cb83-a7e47a4132d3"
   },
   "outputs": [
    {
     "name": "stdout",
     "output_type": "stream",
     "text": [
      "Action Space:  Discrete(6)\n",
      "Observation Space:  Box(210, 160, 3)\n"
     ]
    }
   ],
   "source": [
    "env_S = gym.make('SpaceInvaders-v0')\n",
    "print(\"Action Space: \", env_S.action_space)\n",
    "print(\"Observation Space: \", env_S.observation_space)"
   ]
  },
  {
   "cell_type": "code",
   "execution_count": 0,
   "metadata": {
    "colab": {},
    "colab_type": "code",
    "id": "g75twpN6nC8Z",
    "outputId": "06cae319-826d-4c52-adc4-d25e6051051a"
   },
   "outputs": [
    {
     "name": "stdout",
     "output_type": "stream",
     "text": [
      "Action Space:  Discrete(7)\n",
      "Observation Space:  Box(250, 160, 3)\n"
     ]
    }
   ],
   "source": [
    "env_A = gym.make('Assault-v0')\n",
    "print(\"Action Space: \", env_A.action_space)\n",
    "print(\"Observation Space: \", env_A.observation_space)"
   ]
  },
  {
   "cell_type": "code",
   "execution_count": 0,
   "metadata": {
    "colab": {},
    "colab_type": "code",
    "id": "AGd2vcbwnC8f",
    "outputId": "a159c28e-23fd-4c5a-9df4-4c22b1084d70"
   },
   "outputs": [
    {
     "name": "stdout",
     "output_type": "stream",
     "text": [
      "Action Space:  Discrete(6)\n",
      "Observation Space:  Box(210, 160, 3)\n"
     ]
    }
   ],
   "source": [
    "env_D = gym.make('DemonAttack-v0')\n",
    "print(\"Action Space: \", env_D.action_space)\n",
    "print(\"Observation Space: \", env_D.observation_space)"
   ]
  },
  {
   "cell_type": "code",
   "execution_count": 0,
   "metadata": {
    "colab": {},
    "colab_type": "code",
    "id": "2NYhGj8wnC8m"
   },
   "outputs": [],
   "source": [
    "class Agent_all():\n",
    "    def __init__(self, env):\n",
    "        # 0 = nothing, 1 = fire, 2 = right, 3 = left\n",
    "        self.common_actions = [0, 1, 2, 3]\n",
    "        self.assult_translation = {0:1, 1:2, 2:3, 3:4}\n",
    "    \n",
    "    def get_action(self, state):\n",
    "        base_action = random.choice(self.common_actions)\n",
    "        \n",
    "        assault_action = self.assult_translation[base_action]\n",
    "        \n",
    "        return base_action, base_action, assault_action"
   ]
  },
  {
   "cell_type": "code",
   "execution_count": 0,
   "metadata": {
    "colab": {},
    "colab_type": "code",
    "id": "8j7dbrjFnC8r"
   },
   "outputs": [],
   "source": [
    "state_S = env_S.reset()\n",
    "state_A = env_A.reset()\n",
    "state_D = env_D.reset()"
   ]
  },
  {
   "cell_type": "code",
   "execution_count": 0,
   "metadata": {
    "colab": {},
    "colab_type": "code",
    "id": "VFpRHXaUnC8v"
   },
   "outputs": [],
   "source": [
    "agent = Agent_all(env_S)\n",
    "\n",
    "for _ in range(2000):\n",
    "    action_S, action_D, action_A = agent.get_action(state_S)\n",
    "    \n",
    "    state_S, reward_S, done_S, info_S = env_S.step(action_S)\n",
    "    \n",
    "    rgb_S = env_S.render('rgb_array')\n",
    "    rgb_S = rgb_S[22:195, :, :]\n",
    "    viewer_S.imshow(repeat_upsample(rgb_S, 3, 3))\n",
    "    \n",
    "    state_A, reward_A, done_A, info_A = env_A.step(action_A)\n",
    "    \n",
    "    rgb_A = env_A.render('rgb_array')\n",
    "    rgb_A = rgb_A[51:195+29, :, :]\n",
    "    viewer_A.imshow(repeat_upsample(rgb_A, 3, 3))\n",
    "    \n",
    "    state_D, reward_D, done_D, info_D = env_D.step(action_D)\n",
    "    \n",
    "    rgb_D = env_D.render('rgb_array')\n",
    "    rgb_D = rgb_D[15:188, :, :]\n",
    "    viewer_D.imshow(repeat_upsample(rgb_D, 3, 3))\n",
    "    \n",
    "    #time.sleep(0.1)\n",
    "    if done_S & done_A & done_D:\n",
    "        break\n",
    "    \n",
    "    "
   ]
  },
  {
   "cell_type": "code",
   "execution_count": 0,
   "metadata": {
    "colab": {},
    "colab_type": "code",
    "id": "bZT8TcxinC81",
    "outputId": "8fe3d9f4-064e-4817-8933-d8e508e0fbf2"
   },
   "outputs": [
    {
     "data": {
      "text/plain": [
       "(250, 160)"
      ]
     },
     "execution_count": 13,
     "metadata": {
      "tags": []
     },
     "output_type": "execute_result"
    }
   ],
   "source": [
    "rgb_A.mean(axis=2).shape"
   ]
  },
  {
   "cell_type": "markdown",
   "metadata": {
    "colab_type": "text",
    "id": "aLtvRhL5nC89"
   },
   "source": [
    "SI: 0 = nothing, 1 = fire, 2 = right, 3 = left, 4 = right + fire, 5 = left + fire  \n",
    "A:  0 = nothing, 1 = nothing?, 2 = fire, 3 = right, 4 = left, 5 = shoot right, 6 = shoot left  \n",
    "DA: 0 = nothing, 1 = fire, 2 = right, 3 = left, 4 = right + fire, 5 = left + fire  "
   ]
  },
  {
   "cell_type": "code",
   "execution_count": 0,
   "metadata": {
    "colab": {},
    "colab_type": "code",
    "id": "vfG1tF8UnC8-"
   },
   "outputs": [],
   "source": []
  },
  {
   "cell_type": "code",
   "execution_count": 0,
   "metadata": {
    "colab": {},
    "colab_type": "code",
    "id": "CwVeNH2jnC9E"
   },
   "outputs": [],
   "source": []
  },
  {
   "cell_type": "markdown",
   "metadata": {
    "colab_type": "text",
    "collapsed": true,
    "id": "pZgFbkOknC9H"
   },
   "source": [
    "# Tutorial\n",
    "Full code, but using tensorflow\n",
    " - https://github.com/simoninithomas/Deep_reinforcement_learning_Course/blob/master/Deep%20Q%20Learning/Space%20Invaders/DQN%20Atari%20Space%20Invaders.ipynb  \n",
    " - https://www.youtube.com/watch?v=gCJyVX98KJ4\n",
    "\n",
    "Using Pytorch\n",
    " - https://www.youtube.com/watch?v=RfNxXlO6BiA\n",
    "\n",
    "Also\n",
    " - https://www.youtube.com/watch?v=dpBKz1wxE_c\n",
    " \n",
    "Frame Skipping and Stacking\n",
    " - https://danieltakeshi.github.io/2016/11/25/frame-skipping-and-preprocessing-for-deep-q-networks-on-atari-2600-games/\n",
    " \n",
    "General DQN Walkthrough =\n",
    " - https://medium.com/@jonathan_hui/rl-dqn-deep-q-network-e207751f7ae4"
   ]
  },
  {
   "cell_type": "code",
   "execution_count": 1,
   "metadata": {
    "colab": {},
    "colab_type": "code",
    "id": "9wi-qqj8nC9J"
   },
   "outputs": [],
   "source": [
    "import numpy as np           # Handle matrices\n",
    "\n",
    "from skimage import transform # Help us to preprocess the frames\n",
    "from skimage.color import rgb2gray # Help us to gray our frames\n",
    "\n",
    "import matplotlib.pyplot as plt # Display graphs\n",
    "\n",
    "from collections import deque# Ordered collection with ends\n",
    "\n",
    "import random\n",
    "\n",
    "import warnings # This ignore all the warning messages that are normally printed during the training because of skiimage\n",
    "warnings.filterwarnings('ignore')"
   ]
  },
  {
   "cell_type": "code",
   "execution_count": 2,
   "metadata": {
    "colab": {},
    "colab_type": "code",
    "id": "dvh5NY404CiW"
   },
   "outputs": [],
   "source": [
    "import gym\n",
    "import random\n",
    "import time\n",
    "import pickle"
   ]
  },
  {
   "cell_type": "code",
   "execution_count": 3,
   "metadata": {
    "colab": {},
    "colab_type": "code",
    "id": "w8_TtqncnC9N"
   },
   "outputs": [],
   "source": [
    "import torch as T\n",
    "import torch.nn as nn\n",
    "import torch.optim as optim\n",
    "import torch.nn.functional as F"
   ]
  },
  {
   "cell_type": "code",
   "execution_count": 4,
   "metadata": {
    "colab": {},
    "colab_type": "code",
    "id": "3PiFCz8Q4Cif"
   },
   "outputs": [],
   "source": [
    "import atari_wrappers, wrappers"
   ]
  },
  {
   "cell_type": "code",
   "execution_count": 5,
   "metadata": {
    "colab": {},
    "colab_type": "code",
    "id": "rm-KPHa5wcow"
   },
   "outputs": [],
   "source": [
    "def running_mean(x, N):\n",
    "    cumsum = np.cumsum(np.insert(x, 0, 0)) \n",
    "    return (cumsum[N:] - cumsum[:-N]) / float(N)"
   ]
  },
  {
   "cell_type": "code",
   "execution_count": 6,
   "metadata": {
    "colab": {},
    "colab_type": "code",
    "id": "VsEH8smcnC9h"
   },
   "outputs": [],
   "source": [
    "class Memory():\n",
    "    def __init__(self, max_size):\n",
    "        self.buffer = deque(maxlen = max_size)\n",
    "    \n",
    "    def add(self, transition):\n",
    "        self.buffer.append(transition)\n",
    "    \n",
    "    def sample(self, batch_size):\n",
    "        buffer_size = len(self.buffer)\n",
    "        \n",
    "        random_indices = np.random.choice(np.arange(buffer_size),\n",
    "                                size = batch_size,\n",
    "                                replace = False)\n",
    "        sample = [self.buffer[i] for i in random_indices]\n",
    "        \n",
    "        \n",
    "        return sample"
   ]
  },
  {
   "cell_type": "code",
   "execution_count": 7,
   "metadata": {
    "colab": {},
    "colab_type": "code",
    "id": "jZxwMr1rnC9l"
   },
   "outputs": [],
   "source": [
    "def conv2d_size_out(size, kernel_size = 5, stride = 2):\n",
    "    \"\"\"\n",
    "    Number of Linear input connections depends on output of conv2d layers\n",
    "    and therefore the input image size, so compute it.\n",
    "    \"\"\"\n",
    "    out_size = (size - (kernel_size - 1) - 1) // stride  + 1\n",
    "\n",
    "    return out_size"
   ]
  },
  {
   "cell_type": "code",
   "execution_count": 8,
   "metadata": {
    "colab": {},
    "colab_type": "code",
    "id": "lyaeouS6nC9q"
   },
   "outputs": [],
   "source": [
    "class DQN(nn.Module):\n",
    "\n",
    "    def __init__(self, frame_shape, num_outputs, alpha):\n",
    "        super(DQN, self).__init__()\n",
    "        self.alpha = alpha\n",
    "        \n",
    "        h, w, d = frame_shape\n",
    "        \n",
    "        self.conv1 = nn.Conv2d(4, 32, kernel_size=8, stride=4) #32 filters, 8x8, stride 4\n",
    "        self.bn1 = nn.BatchNorm2d(32)\n",
    "        self.conv2 = nn.Conv2d(32, 64, kernel_size=4, stride=2) \n",
    "        self.bn2 = nn.BatchNorm2d(64)\n",
    "        self.conv3 = nn.Conv2d(64, 64, kernel_size=3, stride=1)\n",
    "        self.bn3 = nn.BatchNorm2d(64)\n",
    "        \n",
    "        convw = conv2d_size_out(conv2d_size_out(conv2d_size_out(w)))\n",
    "        convh = conv2d_size_out(conv2d_size_out(conv2d_size_out(h)))\n",
    "        self.linear_input_size = convw * convh * 64\n",
    "        \n",
    "        self.fc1 = nn.Linear(self.linear_input_size, 512)\n",
    "        self.fc2 = nn.Linear(512, num_outputs)\n",
    "        \n",
    "        self.device = T.device('cuda:1' if T.cuda.is_available() else 'cpu')\n",
    "        self.to(self.device)\n",
    "        \n",
    "        self.optimizer = optim.Adam(self.parameters(), lr=alpha, betas=(0.95, 0.95), eps=0.01) # from the google paper\n",
    "        self.loss = nn.MSELoss()\n",
    "        \n",
    "\n",
    "    # Called with either one element to determine next action, or a batch\n",
    "    # during optimization.\n",
    "    def forward(self, x):\n",
    "        batch_shape = x.shape\n",
    "        x = x/255.0\n",
    "        \n",
    "        # Must transpose it - comes in as (h, w, frames). Change to (frames, h, w)\n",
    "        x = x.view(batch_shape[0], batch_shape[3], batch_shape[1], batch_shape[2])\n",
    "\n",
    "        \n",
    "        x = F.relu(self.bn1(self.conv1(x)))\n",
    "        x = F.relu(self.bn2(self.conv2(x)))\n",
    "        x = F.relu(self.bn3(self.conv3(x)))\n",
    "        \n",
    "        # Flatten \n",
    "        x = x.view(-1, self.linear_input_size)\n",
    "        \n",
    "        # Linear layers\n",
    "        x = F.relu(self.fc1(x))\n",
    "        q_vals = self.fc2(x)\n",
    "        \n",
    "        # q_vals is a q value for each action for each item in minibatch (Eg: 32 * 4)\n",
    "        \n",
    "        return q_vals\n"
   ]
  },
  {
   "cell_type": "code",
   "execution_count": 9,
   "metadata": {
    "colab": {},
    "colab_type": "code",
    "id": "ciGAPeBInC9t"
   },
   "outputs": [],
   "source": [
    "class Agent(object):\n",
    "    \n",
    "    def __init__(self, frame_shape, gamma, epsilon_start, epsilon_end, epsilon_decay, \n",
    "                 alpha, max_memory, replace, action_space):\n",
    "        self.gamma = gamma # Discount factor\n",
    "        self.epsilon_start = epsilon_start # For greedy action selection\n",
    "        self.epsilon_end = epsilon_end #How low epsilon can go\n",
    "        self.epsilon_decay = epsilon_decay\n",
    "        self.replace = replace # How often to replace target network\n",
    "        self.action_space = action_space\n",
    "        self.n_actions = len(action_space)\n",
    "        \n",
    "        self.steps = 0\n",
    "        self.learn_step_counter = 0 #How many times we've called learn function - For target network replacement\n",
    "        self.memory = Memory(max_memory)\n",
    "        \n",
    "        self.replace_target = replace\n",
    "        \n",
    "        self.Q_eval = DQN(frame_shape, len(action_space), alpha) # Agent's estimate of current set of states' Q\n",
    "        self.Q_next = DQN(frame_shape, len(action_space), alpha) # Agent's estimage of next set of states' Q\n",
    "        \n",
    "        self.action_values = T.Tensor(action_space).to(self.Q_eval.device)\n",
    "        \n",
    "        \n",
    "    def storeTransition(self, state, action, reward, result_state, done):\n",
    "        \"\"\"\n",
    "        Wrap the inputs into a \"Transition\" and puts in in memory \n",
    "        \"\"\"\n",
    "        transition = (state, action, reward, result_state, done)\n",
    "        self.memory.add(transition)\n",
    "        \n",
    "        \n",
    "    def chooseAction(self, observation, explore_bool=True):\n",
    "        \"\"\"\n",
    "        Epsilon Greedy strategy with decaying exploration prob.\n",
    "        \"\"\"\n",
    "        rand = np.random.rand()\n",
    "        \n",
    "        if not explore_bool:\n",
    "            explore_probability = 0\n",
    "            \n",
    "        else:\n",
    "            # Lower the exploration probability over time in accordance with \n",
    "            #  the number of times the model has learned \n",
    "            explore_probability = self.epsilon_end + (self.epsilon_start - self.epsilon_end) * \\\n",
    "                                  np.exp(-self.epsilon_decay * self.learn_step_counter)\n",
    "        \n",
    "        if rand < explore_probability:\n",
    "            action = np.random.choice(self.action_space)\n",
    "            \n",
    "        else:\n",
    "            observation = T.Tensor(np.array(observation)).unsqueeze(0).to(self.Q_eval.device)\n",
    "            actions_pred = self.Q_eval.forward(observation)\n",
    "                 \n",
    "            # Take first axis because actions returned as a matrix (1 x num_actions) \n",
    "            action = T.argmax(actions_pred[0]).item()\n",
    "            \n",
    "        self.steps += 1\n",
    "            \n",
    "        return action, explore_probability\n",
    "    \n",
    "    \n",
    "    def initial_fill_mem(self, env, pretrain_length, episode_render, obs_shape):\n",
    "        \"\"\"\n",
    "        Start filling the memory of the agent with a bunch of random moves and transitions to start learning from.\n",
    "        \"\"\"    \n",
    "        state = env.reset()\n",
    "\n",
    "        for i in range(pretrain_length):\n",
    "\n",
    "            # Get the next_state and the reward, done by taking a random action\n",
    "            action = np.random.choice(self.action_space)\n",
    "            next_state, reward, done, info = env.step(action)\n",
    "\n",
    "            if episode_render: env.render()\n",
    "\n",
    "            # If the episode is finished (we're dead 3x), then store a 0 next state and restart the env.\n",
    "            if not done:\n",
    "                # Add experience to memory\n",
    "                self.storeTransition(state, action, reward, next_state, done)\n",
    "\n",
    "                # Our new state is now the next_state\n",
    "                state = next_state\n",
    "                \n",
    "            else: \n",
    "                # We finished the episode, add a state of all black\n",
    "                next_state = np.zeros(obs_shape)\n",
    "\n",
    "                # Add experience to memory\n",
    "                self.storeTransition(state, action, reward, next_state, done)\n",
    "\n",
    "                # Start a new episode\n",
    "                state = env.reset()\n",
    "                \n",
    "                \n",
    "    def run_episode(self, env, learn_bool, explore_bool, max_steps, obs_shape, batch_size, episode_render, train_every):\n",
    "        \"\"\"\n",
    "        Run a single episode\n",
    "        \"\"\"\n",
    "        # Make a new episode and observe the first state\n",
    "        state = env.reset()\n",
    "        episode_reward = 0\n",
    "        episode_steps = 0\n",
    "        episode_losses = []\n",
    "        \n",
    "        done = False\n",
    "\n",
    "        while (episode_steps < max_steps) & (~done):\n",
    "            episode_steps += 1\n",
    "\n",
    "            # Predict the action to take and take it\n",
    "            action, explore_probability = agent.chooseAction(state, explore_bool)\n",
    "\n",
    "            #Perform the action and get the next_state, reward, and done information\n",
    "            next_state, reward, done, info = env.step(action)\n",
    "\n",
    "            if episode_render: env.render()\n",
    "\n",
    "            # Add the reward to total reward\n",
    "            episode_reward += reward\n",
    "\n",
    "            # If it terminated, add a blank screen as the next state\n",
    "            if done: next_state = np.zeros(obs_shape, dtype=np.int)\n",
    "\n",
    "            # Add experience to memory\n",
    "            self.storeTransition(state, action, reward, next_state, done)\n",
    "\n",
    "            # st+1 is now our current state\n",
    "            state = next_state\n",
    "\n",
    "            ### LEARNING PART  \n",
    "            if learn_bool & (episode_steps % train_every == 0): # Learn every 4 steps\n",
    "                loss = agent.learn(batch_size)\n",
    "                episode_losses.append(loss)\n",
    "\n",
    "\n",
    "        # Get the mean loss of the episode\n",
    "        mean_loss = sum(episode_losses)/len(episode_losses)\n",
    "\n",
    "        print('Episode: {}'.format(episode),\n",
    "              'Total reward: {}'.format(episode_reward),\n",
    "              'Explore P: {:.4f}'.format(explore_probability),\n",
    "              'Mean Training Loss {:.4f}'.format(mean_loss))\n",
    "        \n",
    "        return episode_reward, mean_loss, explore_probability\n",
    "    \n",
    "    \n",
    "    def learn(self, batch_size):\n",
    "        \"\"\"\n",
    "        Batch learn\n",
    "        \"\"\"\n",
    "        # Zero gradients for next batch\n",
    "        self.Q_eval.optimizer.zero_grad()\n",
    "        \n",
    "        # Target network replacement\n",
    "        if self.replace_target is not None:\n",
    "            if self.learn_step_counter % self.replace_target == 0:\n",
    "                print('replacing target')\n",
    "                self.Q_next.load_state_dict(self.Q_eval.state_dict())\n",
    "            \n",
    "        # Get a minibatch\n",
    "        minibatch = self.memory.sample(batch_size)\n",
    "        \n",
    "        batch_states =   T.stack([T.Tensor(np.array(i[0])).to(self.Q_eval.device) for i in minibatch])\n",
    "        batch_actions =  T.LongTensor([i[1] for i in minibatch]).to(self.Q_eval.device)\n",
    "        batch_rewards =  T.Tensor([i[2] for i in minibatch]).to(self.Q_eval.device)\n",
    "        batch_next_states = T.stack([T.Tensor(np.array(i[3])).to(self.Q_eval.device) for i in minibatch])\n",
    "        done_bools =  T.Tensor([i[4] for i in minibatch]).to(self.Q_eval.device)\n",
    "        \n",
    "        batch_index = T.arange(batch_size, dtype=T.long, device=self.Q_eval.device)\n",
    "        \n",
    "        # Get predictions from both networks\n",
    "        Qpred  = self.Q_eval.forward(batch_states).to(self.Q_eval.device)\n",
    "        target = self.Q_eval.forward(batch_states).to(self.Q_eval.device)\n",
    "        Qnext = self.Q_next.forward(batch_next_states).to(self.Q_next.device)\n",
    "        \n",
    "        target[batch_index, batch_actions] = batch_rewards + \\\n",
    "              self.gamma*T.max(Qnext, dim=1)[0]*done_bools\n",
    "      \n",
    "        \n",
    "        # Get loss and backprob\n",
    "        loss = self.Q_eval.loss(target, Qpred).to(self.Q_eval.device)\n",
    "        loss.backward()\n",
    "        self.Q_eval.optimizer.step()\n",
    "        \n",
    "        self.learn_step_counter += 1\n",
    "        \n",
    "        return loss.item()\n",
    "        "
   ]
  },
  {
   "cell_type": "markdown",
   "metadata": {
    "colab_type": "text",
    "id": "96k-VX5XnC95"
   },
   "source": [
    "### Running"
   ]
  },
  {
   "cell_type": "code",
   "execution_count": 10,
   "metadata": {
    "colab": {},
    "colab_type": "code",
    "id": "ulQSfHJmnC96"
   },
   "outputs": [],
   "source": [
    "### MODEL HYPERPARAMETERS\n",
    "alpha =  0.00025                   # Alpha (aka learning rate)\n",
    "\n",
    "### TRAINING HYPERPARAMETERS\n",
    "total_episodes = 1000           # Total episodes for training\n",
    "max_steps = 50000              # Max possible steps in an episode\n",
    "batch_size = 2048                # Batch size\n",
    "target_net_replace = 10000     # Target network replacement\n",
    "train_every = 4\n",
    "\n",
    "# Exploration parameters for epsilon greedy strategy\n",
    "epsilon_start = 1.0            # exploration probability at start\n",
    "epsilon_end = 0.1            # minimum exploration probability \n",
    "epsilon_decay = 0.00001           # exponential decay rate for exploration prob\n",
    "\n",
    "# Q learning hyperparameters\n",
    "gamma = 0.99                    # Discounting rate\n",
    "\n",
    "### MEMORY HYPERPARAMETERS\n",
    "pretrain_length =  500000         # Number of experiences stored in the Memory when initialized for the first time\n",
    "memory_size = 100000           # Number of experiences the Memory can keep\n",
    "\n",
    "### PREPROCESSING HYPERPARAMETERS\n",
    "stack_size = 4                 # Number of frames stacked\n",
    "\n",
    "## TURN THIS TO TRUE IF YOU WANT TO RENDER THE ENVIRONMENT\n",
    "episode_render = False"
   ]
  },
  {
   "cell_type": "code",
   "execution_count": 11,
   "metadata": {
    "colab": {
     "base_uri": "https://localhost:8080/",
     "height": 52
    },
    "colab_type": "code",
    "id": "Ls6UP93G4Ci8",
    "outputId": "e2bc90ff-2c13-46a6-871e-022758fca3ed"
   },
   "outputs": [
    {
     "name": "stdout",
     "output_type": "stream",
     "text": [
      "Action Space:  range(0, 6)\n",
      "Observation Space:  (84, 84, 4)\n"
     ]
    }
   ],
   "source": [
    "# Create our environment\n",
    "#env = atari_wrappers.make_atari('SpaceInvadersNoFrameskip-v0', max_steps)\n",
    "env = atari_wrappers.make_atari('PongNoFrameskip-v0', max_steps)\n",
    "env = atari_wrappers.wrap_deepmind(env, episode_life=True, clip_rewards=True, frame_stack=True, scale=False)\n",
    "\n",
    "action_space = range(env.action_space.n)\n",
    "obs_shape = env.observation_space.shape\n",
    "\n",
    "print(\"Action Space: \", action_space)\n",
    "print(\"Observation Space: \", obs_shape)\n"
   ]
  },
  {
   "cell_type": "code",
   "execution_count": 12,
   "metadata": {
    "colab": {},
    "colab_type": "code",
    "id": "38JEBe1ynC98"
   },
   "outputs": [],
   "source": [
    "agent = Agent(obs_shape, gamma, epsilon_start, epsilon_end, epsilon_decay, \n",
    "              alpha, memory_size, target_net_replace, action_space)"
   ]
  },
  {
   "cell_type": "code",
   "execution_count": 13,
   "metadata": {
    "colab": {
     "base_uri": "https://localhost:8080/",
     "height": 34
    },
    "colab_type": "code",
    "id": "tQsn4Rl7naMk",
    "outputId": "118b0324-4a0f-4d0b-ecde-e9d2dd40bfd6"
   },
   "outputs": [
    {
     "data": {
      "text/plain": [
       "device(type='cuda', index=1)"
      ]
     },
     "execution_count": 13,
     "metadata": {},
     "output_type": "execute_result"
    }
   ],
   "source": [
    "agent.Q_eval.device"
   ]
  },
  {
   "cell_type": "code",
   "execution_count": 14,
   "metadata": {
    "colab": {},
    "colab_type": "code",
    "id": "wqwWeoS6nC9_"
   },
   "outputs": [],
   "source": [
    "agent.initial_fill_mem(env, pretrain_length, episode_render, obs_shape)"
   ]
  },
  {
   "cell_type": "code",
   "execution_count": null,
   "metadata": {
    "colab": {
     "base_uri": "https://localhost:8080/",
     "height": 573
    },
    "colab_type": "code",
    "id": "tYh30kJRnC-F",
    "outputId": "04f7251a-974a-44af-b234-369441b426f5"
   },
   "outputs": [
    {
     "name": "stdout",
     "output_type": "stream",
     "text": [
      "AxesImage(72,36;446.4x217.44)\n",
      "AxesImage(72,36;446.4x217.44)\n"
     ]
    }
   ],
   "source": [
    "mem_element = -5\n",
    "\n",
    "fig=plt.figure(figsize=(8, 4))\n",
    "print(plt.imshow(np.array(agent.memory.buffer[mem_element][0]).sum(axis=2), cmap=plt.cm.gray))\n",
    "fig=plt.figure(figsize=(8, 4))\n",
    "print(plt.imshow(np.array(agent.memory.buffer[mem_element][3]).sum(axis=2), cmap=plt.cm.gray))\n",
    "# agent.memory.buffer[mem_element][1], agent.memory.buffer[mem_element][2]"
   ]
  },
  {
   "cell_type": "code",
   "execution_count": null,
   "metadata": {
    "colab": {
     "base_uri": "https://localhost:8080/",
     "height": 1029
    },
    "colab_type": "code",
    "id": "-ejzSuednC-P",
    "outputId": "b83867c4-cf04-4852-99a5-1da95025b32b",
    "scrolled": false
   },
   "outputs": [
    {
     "name": "stdout",
     "output_type": "stream",
     "text": [
      "replacing target\n",
      "Episode: 0 Total reward: -14.0 Explore P: 0.9983 Mean Training Loss 0.0037\n",
      "Episode: 1 Total reward: -19.0 Explore P: 0.9962 Mean Training Loss 0.0035\n",
      "Episode: 2 Total reward: -21.0 Explore P: 0.9944 Mean Training Loss 0.0033\n",
      "Episode: 3 Total reward: -20.0 Explore P: 0.9925 Mean Training Loss 0.0030\n",
      "Episode: 4 Total reward: -20.0 Explore P: 0.9904 Mean Training Loss 0.0028\n",
      "Episode: 5 Total reward: -20.0 Explore P: 0.9885 Mean Training Loss 0.0026\n",
      "Episode: 6 Total reward: -20.0 Explore P: 0.9866 Mean Training Loss 0.0023\n",
      "Episode: 7 Total reward: -20.0 Explore P: 0.9843 Mean Training Loss 0.0020\n",
      "Episode: 8 Total reward: -19.0 Explore P: 0.9818 Mean Training Loss 0.0019\n",
      "Episode: 9 Total reward: -21.0 Explore P: 0.9801 Mean Training Loss 0.0018\n",
      "Episode: 10 Total reward: -20.0 Explore P: 0.9779 Mean Training Loss 0.0017\n",
      "Running time: 959.554s\n"
     ]
    },
    {
     "data": {
      "image/png": "[encoded data removed]",
      "text/plain": [
       "<Figure size 576x288 with 1 Axes>"
      ]
     },
     "metadata": {},
     "output_type": "display_data"
    },
    {
     "data": {
      "image/png": "[encoded data removed]",
      "text/plain": [
       "<Figure size 576x288 with 1 Axes>"
      ]
     },
     "metadata": {},
     "output_type": "display_data"
    },
    {
     "data": {
      "image/png": "[encoded data removed]",
      "text/plain": [
       "<Figure size 432x288 with 2 Axes>"
      ]
     },
     "metadata": {},
     "output_type": "display_data"
    },
    {
     "name": "stdout",
     "output_type": "stream",
     "text": [
      "Episode: 11 Total reward: -21.0 Explore P: 0.9759 Mean Training Loss 0.0016\n",
      "Episode: 12 Total reward: -20.0 Explore P: 0.9741 Mean Training Loss 0.0015\n",
      "Episode: 13 Total reward: -20.0 Explore P: 0.9723 Mean Training Loss 0.0014\n",
      "Episode: 14 Total reward: -19.0 Explore P: 0.9703 Mean Training Loss 0.0013\n",
      "Episode: 15 Total reward: -21.0 Explore P: 0.9684 Mean Training Loss 0.0012\n",
      "Episode: 16 Total reward: -20.0 Explore P: 0.9664 Mean Training Loss 0.0011\n",
      "Episode: 17 Total reward: -21.0 Explore P: 0.9647 Mean Training Loss 0.0011\n",
      "Episode: 18 Total reward: -20.0 Explore P: 0.9626 Mean Training Loss 0.0010\n",
      "Episode: 19 Total reward: -20.0 Explore P: 0.9606 Mean Training Loss 0.0010\n",
      "Episode: 20 Total reward: -18.0 Explore P: 0.9580 Mean Training Loss 0.0010\n",
      "Running time: 1828.396s\n"
     ]
    },
    {
     "data": {
      "image/png": "[encoded data removed]",
      "text/plain": [
       "<Figure size 432x288 with 2 Axes>"
      ]
     },
     "metadata": {},
     "output_type": "display_data"
    },
    {
     "name": "stdout",
     "output_type": "stream",
     "text": [
      "Episode: 21 Total reward: -21.0 Explore P: 0.9561 Mean Training Loss 0.0010\n",
      "Episode: 22 Total reward: -19.0 Explore P: 0.9540 Mean Training Loss 0.0009\n",
      "Episode: 23 Total reward: -20.0 Explore P: 0.9521 Mean Training Loss 0.0009\n",
      "Episode: 24 Total reward: -21.0 Explore P: 0.9498 Mean Training Loss 0.0009\n",
      "Episode: 25 Total reward: -21.0 Explore P: 0.9478 Mean Training Loss 0.0009\n",
      "Episode: 26 Total reward: -19.0 Explore P: 0.9457 Mean Training Loss 0.0009\n",
      "Episode: 27 Total reward: -20.0 Explore P: 0.9439 Mean Training Loss 0.0008\n",
      "Episode: 28 Total reward: -19.0 Explore P: 0.9416 Mean Training Loss 0.0008\n",
      "Episode: 29 Total reward: -20.0 Explore P: 0.9396 Mean Training Loss 0.0008\n",
      "Episode: 30 Total reward: -20.0 Explore P: 0.9375 Mean Training Loss 0.0009\n",
      "Running time: 2709.544s\n"
     ]
    },
    {
     "data": {
      "image/png": "[encoded data removed]",
      "text/plain": [
       "<Figure size 432x288 with 2 Axes>"
      ]
     },
     "metadata": {},
     "output_type": "display_data"
    },
    {
     "name": "stdout",
     "output_type": "stream",
     "text": [
      "Episode: 31 Total reward: -21.0 Explore P: 0.9357 Mean Training Loss 0.0008\n",
      "Episode: 32 Total reward: -20.0 Explore P: 0.9339 Mean Training Loss 0.0008\n",
      "Episode: 33 Total reward: -19.0 Explore P: 0.9320 Mean Training Loss 0.0008\n",
      "Episode: 34 Total reward: -21.0 Explore P: 0.9303 Mean Training Loss 0.0008\n",
      "Episode: 35 Total reward: -20.0 Explore P: 0.9283 Mean Training Loss 0.0008\n",
      "Episode: 36 Total reward: -20.0 Explore P: 0.9262 Mean Training Loss 0.0008\n",
      "Episode: 37 Total reward: -20.0 Explore P: 0.9240 Mean Training Loss 0.0008\n"
     ]
    }
   ],
   "source": [
    "import time\n",
    "# Train the Model!\n",
    "all_losses = []\n",
    "all_rewards = []\n",
    "explore_probs = []\n",
    "\n",
    "ostart = time.time()\n",
    "for episode in range(total_episodes):\n",
    "    start = time.time()\n",
    "    episode_reward, mean_loss, explore_probability = agent.run_episode(env, True, True,\n",
    "                                 max_steps,  obs_shape, batch_size, episode_render, train_every)\n",
    "    end = time.time()\n",
    "    all_losses.append(mean_loss)\n",
    "    all_rewards.append(episode_reward)\n",
    "    explore_probs.append(explore_probability)\n",
    "    \n",
    "    \n",
    "    if (episode % 10 == 0) & (episode != 0):\n",
    "        current = time.time()\n",
    "        print(\"Running time: {:.3f}s\".format(current-ostart))\n",
    "        fig, ax1 = plt.subplots()\n",
    "        avg_window = 8\n",
    "\n",
    "        ax1.set_xlabel('Episodes')\n",
    "        ax1.set_ylabel('Rewards', color='tab:red')\n",
    "        ax1.plot(range(avg_window-1, episode+1), running_mean(all_rewards, avg_window), color='tab:red')\n",
    "        ax1.tick_params(axis='y', labelcolor='tab:red')\n",
    "\n",
    "        ax2 = ax1.twinx()  # instantiate a second axes that shares the same x-axis\n",
    "\n",
    "        ax2.set_ylabel('Loss', color='tab:blue')  # we already handled the x-label with ax1\n",
    "        ax2.plot(range(avg_window-1, episode+1), running_mean(all_losses, avg_window), color='tab:blue')\n",
    "        #ax2.plot(range(avg_window-1, episode+1), running_mean(explore_probs, avg_window))\n",
    "        ax2.tick_params(axis='y', labelcolor='tab:blue')\n",
    "\n",
    "        fig.tight_layout()  # otherwise the right y-label is slightly clipped\n",
    "        plt.show()"
   ]
  },
  {
   "cell_type": "code",
   "execution_count": null,
   "metadata": {
    "colab": {},
    "colab_type": "code",
    "id": "NCe6oXs3nC-V"
   },
   "outputs": [],
   "source": [
    "with open('trained_new_loss.pkl', 'wb') as f:\n",
    "    pickle.dump(agent, f)"
   ]
  },
  {
   "cell_type": "code",
   "execution_count": null,
   "metadata": {
    "colab": {},
    "colab_type": "code",
    "id": "I_P9nVCZ7BAN"
   },
   "outputs": [],
   "source": [
    "with open('trained.pkl', 'rb') as f:\n",
    "    trained500 = pickle.load(f)"
   ]
  },
  {
   "cell_type": "code",
   "execution_count": null,
   "metadata": {
    "colab": {},
    "colab_type": "code",
    "id": "qq7-GON-SCUI"
   },
   "outputs": [],
   "source": []
  }
 ],
 "metadata": {
  "accelerator": "GPU",
  "colab": {
   "collapsed_sections": [],
   "name": "Robotic_Learning_Final.ipynb",
   "provenance": [],
   "version": "0.3.2"
  },
  "kernelspec": {
   "display_name": "Python 3",
   "language": "python",
   "name": "python3"
  },
  "language_info": {
   "codemirror_mode": {
    "name": "ipython",
    "version": 3
   },
   "file_extension": ".py",
   "mimetype": "text/x-python",
   "name": "python",
   "nbconvert_exporter": "python",
   "pygments_lexer": "ipython3",
   "version": "3.6.7"
  }
 },
 "nbformat": 4,
 "nbformat_minor": 1
}
