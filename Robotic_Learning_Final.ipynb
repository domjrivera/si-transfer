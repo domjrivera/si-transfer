{
 "cells": [
  {
   "cell_type": "code",
   "execution_count": 1,
   "metadata": {
    "colab": {},
    "colab_type": "code",
    "collapsed": true,
    "deletable": true,
    "editable": true,
    "id": "rsL_7JHVnC74"
   },
   "outputs": [],
   "source": [
    "import gym\n",
    "import random\n",
    "import time\n",
    "import pickle\n",
    "\n",
    "#from gym.envs.classic_control import rendering "
   ]
  },
  {
   "cell_type": "code",
   "execution_count": 0,
   "metadata": {
    "colab": {},
    "colab_type": "code",
    "collapsed": true,
    "deletable": true,
    "editable": true,
    "id": "1TaRn7CjnC8F"
   },
   "outputs": [],
   "source": [
    "def repeat_upsample(rgb_array, k=1, l=1, err=[]):\n",
    "    # repeat kinda crashes if k/l are zero\n",
    "    if k <= 0 or l <= 0: \n",
    "        if not err: \n",
    "            print(\"Number of repeats must be larger than 0, k: {}, l: {}, returning default array!\".format(k, l))\n",
    "            err.append('logged')\n",
    "        return rgb_array\n",
    "\n",
    "    # repeat the pixels k times along the y axis and l times along the x axis\n",
    "    # if the input image is of shape (m,n,3), the output image will be of shape (k*m, l*n, 3)\n",
    "\n",
    "    return np.repeat(np.repeat(rgb_array, k, axis=0), l, axis=1)"
   ]
  },
  {
   "cell_type": "code",
   "execution_count": 0,
   "metadata": {
    "colab": {},
    "colab_type": "code",
    "collapsed": true,
    "deletable": true,
    "editable": true,
    "id": "48bQI8g3nC8L"
   },
   "outputs": [],
   "source": [
    "viewer_S = rendering.SimpleImageViewer()\n",
    "viewer_A = rendering.SimpleImageViewer()\n",
    "viewer_D = rendering.SimpleImageViewer()"
   ]
  },
  {
   "cell_type": "code",
   "execution_count": 0,
   "metadata": {
    "colab": {},
    "colab_type": "code",
    "collapsed": false,
    "deletable": true,
    "editable": true,
    "id": "tkuJa9dNnC8R",
    "outputId": "6eb1c3c8-89b3-44f3-cb83-a7e47a4132d3"
   },
   "outputs": [
    {
     "name": "stdout",
     "output_type": "stream",
     "text": [
      "Action Space:  Discrete(6)\n",
      "Observation Space:  Box(210, 160, 3)\n"
     ]
    }
   ],
   "source": [
    "env_S = gym.make('SpaceInvaders-v0')\n",
    "print(\"Action Space: \", env_S.action_space)\n",
    "print(\"Observation Space: \", env_S.observation_space)"
   ]
  },
  {
   "cell_type": "code",
   "execution_count": 0,
   "metadata": {
    "colab": {},
    "colab_type": "code",
    "collapsed": false,
    "deletable": true,
    "editable": true,
    "id": "g75twpN6nC8Z",
    "outputId": "06cae319-826d-4c52-adc4-d25e6051051a"
   },
   "outputs": [
    {
     "name": "stdout",
     "output_type": "stream",
     "text": [
      "Action Space:  Discrete(7)\n",
      "Observation Space:  Box(250, 160, 3)\n"
     ]
    }
   ],
   "source": [
    "env_A = gym.make('Assault-v0')\n",
    "print(\"Action Space: \", env_A.action_space)\n",
    "print(\"Observation Space: \", env_A.observation_space)"
   ]
  },
  {
   "cell_type": "code",
   "execution_count": 0,
   "metadata": {
    "colab": {},
    "colab_type": "code",
    "collapsed": false,
    "deletable": true,
    "editable": true,
    "id": "AGd2vcbwnC8f",
    "outputId": "a159c28e-23fd-4c5a-9df4-4c22b1084d70"
   },
   "outputs": [
    {
     "name": "stdout",
     "output_type": "stream",
     "text": [
      "Action Space:  Discrete(6)\n",
      "Observation Space:  Box(210, 160, 3)\n"
     ]
    }
   ],
   "source": [
    "env_D = gym.make('DemonAttack-v0')\n",
    "print(\"Action Space: \", env_D.action_space)\n",
    "print(\"Observation Space: \", env_D.observation_space)"
   ]
  },
  {
   "cell_type": "code",
   "execution_count": 0,
   "metadata": {
    "colab": {},
    "colab_type": "code",
    "collapsed": true,
    "deletable": true,
    "editable": true,
    "id": "2NYhGj8wnC8m"
   },
   "outputs": [],
   "source": [
    "class Agent_all():\n",
    "    def __init__(self, env):\n",
    "        # 0 = nothing, 1 = fire, 2 = right, 3 = left\n",
    "        self.common_actions = [0, 1, 2, 3]\n",
    "        self.assult_translation = {0:1, 1:2, 2:3, 3:4}\n",
    "    \n",
    "    def get_action(self, state):\n",
    "        base_action = random.choice(self.common_actions)\n",
    "        \n",
    "        assault_action = self.assult_translation[base_action]\n",
    "        \n",
    "        return base_action, base_action, assault_action"
   ]
  },
  {
   "cell_type": "code",
   "execution_count": 0,
   "metadata": {
    "colab": {},
    "colab_type": "code",
    "collapsed": true,
    "deletable": true,
    "editable": true,
    "id": "8j7dbrjFnC8r"
   },
   "outputs": [],
   "source": [
    "state_S = env_S.reset()\n",
    "state_A = env_A.reset()\n",
    "state_D = env_D.reset()"
   ]
  },
  {
   "cell_type": "code",
   "execution_count": 0,
   "metadata": {
    "colab": {},
    "colab_type": "code",
    "collapsed": true,
    "deletable": true,
    "editable": true,
    "id": "VFpRHXaUnC8v"
   },
   "outputs": [],
   "source": [
    "agent = Agent_all(env_S)\n",
    "\n",
    "for _ in range(2000):\n",
    "    action_S, action_D, action_A = agent.get_action(state_S)\n",
    "    \n",
    "    state_S, reward_S, done_S, info_S = env_S.step(action_S)\n",
    "    \n",
    "    rgb_S = env_S.render('rgb_array')\n",
    "    rgb_S = rgb_S[22:195, :, :]\n",
    "    viewer_S.imshow(repeat_upsample(rgb_S, 3, 3))\n",
    "    \n",
    "    state_A, reward_A, done_A, info_A = env_A.step(action_A)\n",
    "    \n",
    "    rgb_A = env_A.render('rgb_array')\n",
    "    rgb_A = rgb_A[51:195+29, :, :]\n",
    "    viewer_A.imshow(repeat_upsample(rgb_A, 3, 3))\n",
    "    \n",
    "    state_D, reward_D, done_D, info_D = env_D.step(action_D)\n",
    "    \n",
    "    rgb_D = env_D.render('rgb_array')\n",
    "    rgb_D = rgb_D[15:188, :, :]\n",
    "    viewer_D.imshow(repeat_upsample(rgb_D, 3, 3))\n",
    "    \n",
    "    #time.sleep(0.1)\n",
    "    if done_S & done_A & done_D:\n",
    "        break\n",
    "    \n",
    "    "
   ]
  },
  {
   "cell_type": "code",
   "execution_count": 0,
   "metadata": {
    "colab": {},
    "colab_type": "code",
    "collapsed": false,
    "deletable": true,
    "editable": true,
    "id": "bZT8TcxinC81",
    "outputId": "8fe3d9f4-064e-4817-8933-d8e508e0fbf2"
   },
   "outputs": [
    {
     "data": {
      "text/plain": [
       "(250, 160)"
      ]
     },
     "execution_count": 13,
     "metadata": {
      "tags": []
     },
     "output_type": "execute_result"
    }
   ],
   "source": [
    "rgb_A.mean(axis=2).shape"
   ]
  },
  {
   "cell_type": "markdown",
   "metadata": {
    "colab_type": "text",
    "deletable": true,
    "editable": true,
    "id": "aLtvRhL5nC89"
   },
   "source": [
    "SI: 0 = nothing, 1 = fire, 2 = right, 3 = left, 4 = right + fire, 5 = left + fire  \n",
    "A:  0 = nothing, 1 = nothing?, 2 = fire, 3 = right, 4 = left, 5 = shoot right, 6 = shoot left  \n",
    "DA: 0 = nothing, 1 = fire, 2 = right, 3 = left, 4 = right + fire, 5 = left + fire  "
   ]
  },
  {
   "cell_type": "code",
   "execution_count": 0,
   "metadata": {
    "colab": {},
    "colab_type": "code",
    "collapsed": true,
    "deletable": true,
    "editable": true,
    "id": "vfG1tF8UnC8-"
   },
   "outputs": [],
   "source": []
  },
  {
   "cell_type": "code",
   "execution_count": 0,
   "metadata": {
    "colab": {},
    "colab_type": "code",
    "collapsed": true,
    "deletable": true,
    "editable": true,
    "id": "CwVeNH2jnC9E"
   },
   "outputs": [],
   "source": []
  },
  {
   "cell_type": "markdown",
   "metadata": {
    "colab_type": "text",
    "collapsed": true,
    "deletable": true,
    "editable": true,
    "id": "pZgFbkOknC9H"
   },
   "source": [
    "# Tutorial\n",
    "Full code, but using tensorflow\n",
    " - https://github.com/simoninithomas/Deep_reinforcement_learning_Course/blob/master/Deep%20Q%20Learning/Space%20Invaders/DQN%20Atari%20Space%20Invaders.ipynb  \n",
    " - https://www.youtube.com/watch?v=gCJyVX98KJ4\n",
    "\n",
    "Using Pytorch\n",
    " - https://www.youtube.com/watch?v=RfNxXlO6BiA\n",
    "\n",
    "Also\n",
    " - https://www.youtube.com/watch?v=dpBKz1wxE_c\n",
    " \n",
    "Frame Skipping and Stacking\n",
    " - https://danieltakeshi.github.io/2016/11/25/frame-skipping-and-preprocessing-for-deep-q-networks-on-atari-2600-games/\n",
    " \n",
    "General DQN Walkthrough =\n",
    " - https://medium.com/@jonathan_hui/rl-dqn-deep-q-network-e207751f7ae4"
   ]
  },
  {
   "cell_type": "code",
   "execution_count": 17,
   "metadata": {
    "colab": {},
    "colab_type": "code",
    "collapsed": true,
    "deletable": true,
    "editable": true,
    "id": "9wi-qqj8nC9J"
   },
   "outputs": [],
   "source": [
    "import numpy as np           # Handle matrices\n",
    "\n",
    "from skimage import transform # Help us to preprocess the frames\n",
    "from skimage.color import rgb2gray # Help us to gray our frames\n",
    "\n",
    "import matplotlib.pyplot as plt # Display graphs\n",
    "\n",
    "from collections import deque# Ordered collection with ends\n",
    "\n",
    "import random\n",
    "\n",
    "import warnings # This ignore all the warning messages that are normally printed during the training because of skiimage\n",
    "warnings.filterwarnings('ignore')"
   ]
  },
  {
   "cell_type": "code",
   "execution_count": 18,
   "metadata": {
    "collapsed": true
   },
   "outputs": [],
   "source": [
    "import gym\n",
    "import random\n",
    "import time\n",
    "import pickle"
   ]
  },
  {
   "cell_type": "code",
   "execution_count": 19,
   "metadata": {
    "colab": {},
    "colab_type": "code",
    "collapsed": true,
    "deletable": true,
    "editable": true,
    "id": "w8_TtqncnC9N"
   },
   "outputs": [],
   "source": [
    "import torch as T\n",
    "import torch.nn as nn\n",
    "import torch.optim as optim\n",
    "import torch.nn.functional as F"
   ]
  },
  {
   "cell_type": "code",
   "execution_count": 20,
   "metadata": {
    "collapsed": false
   },
   "outputs": [],
   "source": [
    "import atari_wrappers"
   ]
  },
  {
   "cell_type": "code",
   "execution_count": 21,
   "metadata": {
    "colab": {},
    "colab_type": "code",
    "collapsed": true,
    "deletable": true,
    "editable": true,
    "id": "rm-KPHa5wcow"
   },
   "outputs": [],
   "source": [
    "def running_mean(x, N):\n",
    "    cumsum = np.cumsum(np.insert(x, 0, 0)) \n",
    "    return (cumsum[N:] - cumsum[:-N]) / float(N)"
   ]
  },
  {
   "cell_type": "code",
   "execution_count": 22,
   "metadata": {
    "colab": {},
    "colab_type": "code",
    "collapsed": true,
    "deletable": true,
    "editable": true,
    "id": "YV-SpvCanC9Y"
   },
   "outputs": [],
   "source": [
    "def preprocess_frame(frame):\n",
    "    # Grayscale frame \n",
    "    gray = rgb2gray(frame)\n",
    "    \n",
    "    # Crop the screen (remove the part below the player)\n",
    "    # [Up: Down, Left: right]\n",
    "    cropped_frame = gray[22:195,4:-12]\n",
    "    \n",
    "    # Normalize Pixel Values\n",
    "    normalized_frame = cropped_frame/255.0\n",
    "    \n",
    "    # Resize\n",
    "    # Thanks to Mikołaj Walkowiak\n",
    "    preprocessed_frame = transform.resize(normalized_frame, [110,84])\n",
    "    \n",
    "    return preprocessed_frame # 110x84x1 frame"
   ]
  },
  {
   "cell_type": "code",
   "execution_count": 23,
   "metadata": {
    "colab": {},
    "colab_type": "code",
    "collapsed": true,
    "deletable": true,
    "editable": true,
    "id": "a68w9SW8nC9c"
   },
   "outputs": [],
   "source": [
    "def stack_frames(frame_queue, raw_frame, is_new_episode, stack_size=4):\n",
    "    # Preprocess frame\n",
    "    # https://github.com/openai/gym/issues/275 - Env is already skipping frames\n",
    "    \n",
    "    # I will skip 2 frames and grab every 3rd\n",
    "    \n",
    "    # frame_queue = the queue, stacked_state = an array of the same information\n",
    "    frame = preprocess_frame(raw_frame)\n",
    "    frame = T.Tensor(frame)\n",
    "    queue_size = (stack_size-1)*3 + 1\n",
    "    \n",
    "    if is_new_episode:\n",
    "        # Clear our frame_queue\n",
    "        frame_queue = deque([T.zeros((110,84)) for i in range(stack_size)], maxlen=queue_size)\n",
    "        \n",
    "        # Because we're in a new episode, copy the same frame to fill the queue\n",
    "        for i in range(queue_size):\n",
    "            frame_queue.append(frame)\n",
    "        \n",
    "        # Build the stacked state (first dimension specifies different frames)\n",
    "        stacked_state = T.stack([frame_queue[i] for i in range(0, queue_size, 3)], dim=2)\n",
    "        \n",
    "    else:\n",
    "        # Append frame to deque, automatically removes the oldest frame\n",
    "        frame_queue.append(frame)\n",
    "\n",
    "        # Build the stacked state (first dimension specifies different frames)\n",
    "        stacked_state = T.stack([frame_queue[i] for i in range(0, queue_size, 3)], dim=2) \n",
    "    \n",
    "    return stacked_state, frame_queue"
   ]
  },
  {
   "cell_type": "code",
   "execution_count": 24,
   "metadata": {
    "colab": {},
    "colab_type": "code",
    "collapsed": true,
    "deletable": true,
    "editable": true,
    "id": "VsEH8smcnC9h"
   },
   "outputs": [],
   "source": [
    "class Memory():\n",
    "    def __init__(self, max_size):\n",
    "        self.buffer = deque(maxlen = max_size)\n",
    "    \n",
    "    def add(self, transition):\n",
    "        self.buffer.append(transition)\n",
    "    \n",
    "    def sample(self, batch_size, consecutive=False):\n",
    "        buffer_size = len(self.buffer)\n",
    "        \n",
    "        if consecutive:\n",
    "            rand_start = np.random.choice(range(buffer_size - batch_size - 1))\n",
    "            sample = [self.buffer[i] for i in range(rand_start, rand_start + batch_size)]\n",
    "        else:\n",
    "            random_indices = np.random.choice(np.arange(buffer_size),\n",
    "                                    size = batch_size,\n",
    "                                    replace = False)\n",
    "            sample = [self.buffer[i] for i in random_indices]\n",
    "        \n",
    "        \n",
    "        return sample"
   ]
  },
  {
   "cell_type": "code",
   "execution_count": 25,
   "metadata": {
    "colab": {},
    "colab_type": "code",
    "collapsed": true,
    "deletable": true,
    "editable": true,
    "id": "jZxwMr1rnC9l"
   },
   "outputs": [],
   "source": [
    "def conv2d_size_out(size, kernel_size = 5, stride = 2):\n",
    "    \"\"\"\n",
    "    Number of Linear input connections depends on output of conv2d layers\n",
    "    and therefore the input image size, so compute it.\n",
    "    \"\"\"\n",
    "    out_size = (size - (kernel_size - 1) - 1) // stride  + 1\n",
    "\n",
    "    return out_size"
   ]
  },
  {
   "cell_type": "code",
   "execution_count": 26,
   "metadata": {
    "colab": {},
    "colab_type": "code",
    "collapsed": true,
    "deletable": true,
    "editable": true,
    "id": "lyaeouS6nC9q"
   },
   "outputs": [],
   "source": [
    "class DQN(nn.Module):\n",
    "\n",
    "    def __init__(self, frame_shape, num_outputs, alpha):\n",
    "        super(DQN, self).__init__()\n",
    "        self.alpha = alpha\n",
    "        \n",
    "        h, w = frame_shape\n",
    "        \n",
    "        self.conv1 = nn.Conv2d(4, 16, kernel_size=5, stride=2)\n",
    "        self.bn1 = nn.BatchNorm2d(16)\n",
    "        self.conv2 = nn.Conv2d(16, 32, kernel_size=5, stride=2)\n",
    "        self.bn2 = nn.BatchNorm2d(32)\n",
    "        self.conv3 = nn.Conv2d(32, 32, kernel_size=5, stride=2)\n",
    "        self.bn3 = nn.BatchNorm2d(32)\n",
    "        \n",
    "        convw = conv2d_size_out(conv2d_size_out(conv2d_size_out(w)))\n",
    "        convh = conv2d_size_out(conv2d_size_out(conv2d_size_out(h)))\n",
    "        self.linear_input_size = convw * convh * 32\n",
    "        \n",
    "        self.fc1 = nn.Linear(self.linear_input_size, 512)\n",
    "        self.fc2 = nn.Linear(512, num_outputs)\n",
    "        \n",
    "        self.device = T.device('cuda:0' if T.cuda.is_available() else 'cpu')\n",
    "        self.to(self.device)\n",
    "        \n",
    "        self.optimizer = optim.Adam(self.parameters(), lr=alpha)\n",
    "        self.loss = nn.MSELoss()\n",
    "        \n",
    "\n",
    "    # Called with either one element to determine next action, or a batch\n",
    "    # during optimization.\n",
    "    def forward(self, x):\n",
    "        batch_shape = x.shape\n",
    "        \n",
    "        # Must transpose it - comes in as (h, w, frames). Change to (frames, h, w)\n",
    "        x = x.view(batch_shape[0], batch_shape[3], batch_shape[1], batch_shape[2])\n",
    "\n",
    "        \n",
    "        x = F.elu(self.bn1(self.conv1(x)))\n",
    "        x = F.elu(self.bn2(self.conv2(x)))\n",
    "        x = F.elu(self.bn3(self.conv3(x)))\n",
    "        \n",
    "        # Flatten \n",
    "        x = x.view(-1, self.linear_input_size)\n",
    "        \n",
    "        # Linear layers\n",
    "        x = F.elu(self.fc1(x))\n",
    "        q_vals = self.fc2(x)\n",
    "        \n",
    "        # q_vals is a q value for each action for each item in minibatch (Eg: 32 * 4)\n",
    "        \n",
    "        return q_vals\n"
   ]
  },
  {
   "cell_type": "code",
   "execution_count": 27,
   "metadata": {
    "colab": {},
    "colab_type": "code",
    "collapsed": true,
    "deletable": true,
    "editable": true,
    "id": "ciGAPeBInC9t"
   },
   "outputs": [],
   "source": [
    "class Agent(object):\n",
    "    \n",
    "    def __init__(self, frame_shape, gamma, epsilon_start, epsilon_end, epsilon_decay, \n",
    "                 alpha, max_memory, replace, action_space):\n",
    "        self.gamma = gamma # Discount factor\n",
    "        self.epsilon_start = epsilon_start # For greedy action selection\n",
    "        self.epsilon_end = epsilon_end #How low epsilon can go\n",
    "        self.epsilon_decay = epsilon_decay\n",
    "        self.replace = replace # How often to replace target network\n",
    "        self.action_space = action_space\n",
    "        self.n_actions = len(action_space)\n",
    "        \n",
    "        self.steps = 0\n",
    "        self.learn_step_counter = 0 #How many times we've called learn function - For target network replacement\n",
    "        self.memory = Memory(max_memory)\n",
    "        \n",
    "        self.replace_target = replace\n",
    "        \n",
    "        self.Q_eval = DQN(frame_shape, len(action_space), alpha) # Agent's estimate of current set of states' Q\n",
    "        self.Q_next = DQN(frame_shape, len(action_space), alpha) # Agent's estimage of next set of states' Q\n",
    "        \n",
    "        self.action_values = T.Tensor(action_space).to(self.Q_eval.device)\n",
    "        \n",
    "        \n",
    "    def storeTransition(self, state, action, reward, result_state, done):\n",
    "        \"\"\"\n",
    "        Wrap the inputs into a \"Transition\" and puts in in memory \n",
    "        \"\"\"\n",
    "        \n",
    "        transition = (state, action, reward, result_state, done)\n",
    "        self.memory.add(transition)\n",
    "        \n",
    "        \n",
    "    def chooseAction(self, observation):\n",
    "        \"\"\"\n",
    "        Epsilon Greedy strategy with decaying exploration prob.\n",
    "        \"\"\"\n",
    "        rand = np.random.rand()\n",
    "        \n",
    "        # Lower the exploration probability over time in accordance with \n",
    "        #  the number of times the model has learned \n",
    "        explore_probability = self.epsilon_end + (self.epsilon_start - self.epsilon_end) * \\\n",
    "                              np.exp(-self.epsilon_decay * self.learn_step_counter)\n",
    "        \n",
    "        if rand < explore_probability:\n",
    "            action = np.random.choice(self.action_space)\n",
    "            \n",
    "        else:\n",
    "            actions_pred = self.Q_eval.forward(observation)\n",
    "                 \n",
    "            # Take first axis because actions returned as a matrix (1 x num_actions) \n",
    "            action = T.argmax(actions_pred[0]).item()\n",
    "            \n",
    "        self.steps += 1\n",
    "            \n",
    "        return action, explore_probability\n",
    "    \n",
    "    \n",
    "    def learn(self, batch_size, consecutive_bool):\n",
    "        \"\"\"\n",
    "        Batch learn\n",
    "        \"\"\"\n",
    "        # Zero gradients for next batch\n",
    "        self.Q_eval.optimizer.zero_grad()\n",
    "        \n",
    "        # Target network replacement\n",
    "        if self.replace_target is not None:\n",
    "            if self.learn_step_counter % self.replace_target == 0:\n",
    "                 print('replacing target')\n",
    "                 self.Q_next.load_state_dict(self.Q_eval.state_dict())\n",
    "            \n",
    "        # Get a minibatch\n",
    "        minibatch = self.memory.sample(batch_size, consecutive=consecutive_bool) # Not sure they need to be consec\n",
    "        \n",
    "        batch_states =   T.stack([i[0] for i in minibatch]).to(self.Q_eval.device)\n",
    "        batch_actions =  T.LongTensor([i[1] for i in minibatch]).to(self.Q_eval.device)\n",
    "        batch_rewards =  T.Tensor([i[2] for i in minibatch]).to(self.Q_eval.device)\n",
    "        batch_next_states = T.stack([i[3] for i in minibatch]).to(self.Q_eval.device)\n",
    "        done_bools =  T.Tensor([i[4] for i in minibatch]).to(self.Q_eval.device)\n",
    "        \n",
    "        batch_index = T.arange(batch_size, dtype=T.long, device=self.Q_eval.device)\n",
    "        \n",
    "        # Get predictions from both networks\n",
    "        Qpred  = self.Q_eval.forward(batch_states).to(self.Q_eval.device)\n",
    "        target = self.Q_eval.forward(batch_states).to(self.Q_eval.device)\n",
    "        Qnext = self.Q_next.forward(batch_next_states).to(self.Q_next.device)\n",
    "        \n",
    "        target[batch_index, batch_actions] = batch_rewards + \\\n",
    "              self.gamma*T.max(Qnext, dim=1)[0]*done_bools\n",
    "      \n",
    "        \n",
    "        # Get loss and backprob\n",
    "        loss = self.Q_eval.loss(target, Qpred).to(self.Q_eval.device)\n",
    "        loss.backward()\n",
    "        self.Q_eval.optimizer.step()\n",
    "        \n",
    "        self.learn_step_counter += 1\n",
    "        \n",
    "        return loss.item()\n",
    "        "
   ]
  },
  {
   "cell_type": "code",
   "execution_count": 28,
   "metadata": {
    "colab": {},
    "colab_type": "code",
    "collapsed": true,
    "deletable": true,
    "editable": true,
    "id": "KKrjsGmQnC91"
   },
   "outputs": [],
   "source": [
    "def initial_fill_mem(agent, pretrain_length, env):\n",
    "    \"\"\"\n",
    "    Start filling the memory of the agent with a bunch of random moves and transitions to start learning from.\n",
    "    \n",
    "    Pretrain length should be at least 1 batchsize\n",
    "    \"\"\"    \n",
    "    possible_actions = agent.action_space\n",
    "    \n",
    "    frame = env.reset()\n",
    "    state, frame_queue = stack_frames(None, frame, is_new_episode=True)\n",
    "    \n",
    "    prior_num_lives = 3 \n",
    "    \n",
    "    for i in range(pretrain_length):\n",
    "\n",
    "        # Get the next_state and the reward, done by taking a random action\n",
    "        action = np.random.choice(possible_actions)\n",
    "        next_frame, reward, done, info = env.step(action)\n",
    "        num_lives = info['ale.lives']\n",
    "        \n",
    "        if num_lives < prior_num_lives:\n",
    "            reward = -20.0\n",
    "            \n",
    "        prior_num_lives = num_lives\n",
    "\n",
    "        if episode_render: env.render()\n",
    "\n",
    "        # Stack the frames\n",
    "        next_state, frame_queue = stack_frames(frame_queue, next_frame, is_new_episode=False)\n",
    "\n",
    "        # If the episode is finished (we're dead 3x), then store a 0 next state and restart the env.\n",
    "        if done:\n",
    "            # We finished the episode\n",
    "            next_state = np.zeros(next_state.shape)\n",
    "\n",
    "            # Add experience to memory\n",
    "            agent.storeTransition(state, action, reward, next_state, done)\n",
    "\n",
    "            # Start a new episode\n",
    "            frame = env.reset()\n",
    "\n",
    "            # Stack the frames\n",
    "            state, frame_queue = stack_frames(frame_queue, frame, is_new_episode=True)\n",
    "\n",
    "        else:\n",
    "            # Add experience to memory\n",
    "            agent.storeTransition(state, action, reward, next_state, done)\n",
    "\n",
    "            # Our new state is now the next_state\n",
    "            state = next_state\n",
    "            \n",
    "    return frame_queue\n",
    "    "
   ]
  },
  {
   "cell_type": "markdown",
   "metadata": {
    "colab_type": "text",
    "deletable": true,
    "editable": true,
    "id": "96k-VX5XnC95"
   },
   "source": [
    "### Running"
   ]
  },
  {
   "cell_type": "code",
   "execution_count": 29,
   "metadata": {
    "colab": {},
    "colab_type": "code",
    "collapsed": true,
    "deletable": true,
    "editable": true,
    "id": "ulQSfHJmnC96"
   },
   "outputs": [],
   "source": [
    "### MODEL HYPERPARAMETERS\n",
    "frame_shape = [110, 84]\n",
    "state_size = [110, 84, 4]         # Our input is a stack of 4 frames hence 110x84x4 (Width, height, channels) \n",
    "alpha =  0.0005                   # Alpha (aka learning rate)\n",
    "\n",
    "### TRAINING HYPERPARAMETERS\n",
    "total_episodes = 1000           # Total episodes for training\n",
    "max_steps = 50000              # Max possible steps in an episode\n",
    "batch_size = 64                # Batch size\n",
    "target_net_replace = 50000     # Target network replacement\n",
    "\n",
    "# Exploration parameters for epsilon greedy strategy\n",
    "epsilon_start = 1.0            # exploration probability at start\n",
    "epsilon_end = 0.01            # minimum exploration probability \n",
    "epsilon_decay = 0.00001           # exponential decay rate for exploration prob\n",
    "\n",
    "# Q learning hyperparameters\n",
    "gamma = 0.9                    # Discounting rate\n",
    "\n",
    "### MEMORY HYPERPARAMETERS\n",
    "pretrain_length =  200         # Number of experiences stored in the Memory when initialized for the first time\n",
    "memory_size = 10000            # Number of experiences the Memory can keep\n",
    "consecutive_bool = True        # If the samples are pulled consecutively from memory. **Leave this True**\n",
    "\n",
    "### PREPROCESSING HYPERPARAMETERS\n",
    "stack_size = 4                 # Number of frames stacked\n",
    "\n",
    "## TURN THIS TO TRUE IF YOU WANT TO RENDER THE ENVIRONMENT\n",
    "episode_render = False"
   ]
  },
  {
   "cell_type": "code",
   "execution_count": 35,
   "metadata": {
    "collapsed": false
   },
   "outputs": [
    {
     "data": {
      "text/plain": [
       "'SpaceInvaders-v0'"
      ]
     },
     "execution_count": 35,
     "metadata": {},
     "output_type": "execute_result"
    }
   ],
   "source": [
    "gym.make('SpaceInvaders-v0').spec.id"
   ]
  },
  {
   "cell_type": "code",
   "execution_count": 41,
   "metadata": {
    "collapsed": false
   },
   "outputs": [
    {
     "name": "stdout",
     "output_type": "stream",
     "text": [
      "Action Space:  Discrete(6)\n",
      "Observation Space:  Box(84, 84, 4)\n"
     ]
    }
   ],
   "source": [
    "# Create our environment\n",
    "env = atari_wrappers.make_atari('SpaceInvadersNoFrameskip-v0', max_steps)\n",
    "env = atari_wrappers.wrap_deepmind(env, episode_life=True, clip_rewards=True, frame_stack=True, scale=False)\n",
    "\n",
    "print(\"Action Space: \", env.action_space)\n",
    "print(\"Observation Space: \", env.observation_space)\n"
   ]
  },
  {
   "cell_type": "code",
   "execution_count": 0,
   "metadata": {
    "colab": {},
    "colab_type": "code",
    "collapsed": true,
    "deletable": true,
    "editable": true,
    "id": "38JEBe1ynC98"
   },
   "outputs": [],
   "source": [
    "agent = Agent(frame_shape, gamma, epsilon_start, epsilon_end, epsilon_decay, \n",
    "              alpha, memory_size, target_net_replace, action_space)"
   ]
  },
  {
   "cell_type": "code",
   "execution_count": 23,
   "metadata": {
    "colab": {
     "base_uri": "https://localhost:8080/",
     "height": 34
    },
    "colab_type": "code",
    "collapsed": false,
    "deletable": true,
    "editable": true,
    "id": "tQsn4Rl7naMk",
    "outputId": "e6fdd6f1-0ace-4ece-966a-e1132f916e2f"
   },
   "outputs": [
    {
     "data": {
      "text/plain": [
       "device(type='cuda', index=0)"
      ]
     },
     "execution_count": 23,
     "metadata": {
      "tags": []
     },
     "output_type": "execute_result"
    }
   ],
   "source": [
    "agent.Q_eval.device"
   ]
  },
  {
   "cell_type": "code",
   "execution_count": 0,
   "metadata": {
    "colab": {},
    "colab_type": "code",
    "collapsed": true,
    "deletable": true,
    "editable": true,
    "id": "wqwWeoS6nC9_"
   },
   "outputs": [],
   "source": [
    "frame_queue = initial_fill_mem(agent, pretrain_length, env)"
   ]
  },
  {
   "cell_type": "code",
   "execution_count": 28,
   "metadata": {
    "colab": {
     "base_uri": "https://localhost:8080/",
     "height": 573
    },
    "colab_type": "code",
    "collapsed": false,
    "deletable": true,
    "editable": true,
    "id": "tYh30kJRnC-F",
    "outputId": "15471700-6ebd-4823-924c-3368da7b0602"
   },
   "outputs": [
    {
     "name": "stdout",
     "output_type": "stream",
     "text": [
      "AxesImage(72,36;446.4x217.44)\n",
      "AxesImage(72,36;446.4x217.44)\n"
     ]
    },
    {
     "data": {
      "text/plain": [
       "(3, 0.0)"
      ]
     },
     "execution_count": 28,
     "metadata": {
      "tags": []
     },
     "output_type": "execute_result"
    },
    {
     "data": {
      "image/png": "[encoded data removed]",
      "text/plain": [
       "<Figure size 576x288 with 1 Axes>"
      ]
     },
     "metadata": {
      "tags": []
     },
     "output_type": "display_data"
    },
    {
     "data": {
      "image/png": "[encoded data removed]",
      "text/plain": [
       "<Figure size 576x288 with 1 Axes>"
      ]
     },
     "metadata": {
      "tags": []
     },
     "output_type": "display_data"
    }
   ],
   "source": [
    "mem_element = -1\n",
    "\n",
    "fig=plt.figure(figsize=(8, 4))\n",
    "print(plt.imshow(agent.memory.buffer[mem_element][0].sum(dim=2), cmap=plt.cm.gray))\n",
    "fig=plt.figure(figsize=(8, 4))\n",
    "print(plt.imshow(agent.memory.buffer[mem_element][3].sum(dim=2), cmap=plt.cm.gray))\n",
    "agent.memory.buffer[mem_element][1], agent.memory.buffer[mem_element][2]"
   ]
  },
  {
   "cell_type": "code",
   "execution_count": 34,
   "metadata": {
    "colab": {
     "base_uri": "https://localhost:8080/",
     "height": 34
    },
    "colab_type": "code",
    "collapsed": false,
    "deletable": true,
    "editable": true,
    "id": "6cNs8QyhESM3",
    "outputId": "3e1ad2ff-5fa4-49b3-a47a-d3c258745fa7"
   },
   "outputs": [
    {
     "data": {
      "text/plain": [
       "torch.Size([110, 84, 4])"
      ]
     },
     "execution_count": 34,
     "metadata": {
      "tags": []
     },
     "output_type": "execute_result"
    }
   ],
   "source": [
    "agent.memory.buffer[mem_element][0].shape"
   ]
  },
  {
   "cell_type": "code",
   "execution_count": 38,
   "metadata": {
    "colab": {
     "base_uri": "https://localhost:8080/",
     "height": 286
    },
    "colab_type": "code",
    "collapsed": false,
    "deletable": true,
    "editable": true,
    "id": "-kGS2zySEG7h",
    "outputId": "0909b80d-27a4-47d5-abdd-9b1d4c3bdcc8"
   },
   "outputs": [
    {
     "data": {
      "text/plain": [
       "<matplotlib.image.AxesImage at 0x7f7454a484a8>"
      ]
     },
     "execution_count": 38,
     "metadata": {
      "tags": []
     },
     "output_type": "execute_result"
    },
    {
     "data": {
      "image/png": "[encoded data removed]",
      "text/plain": [
       "<Figure size 432x288 with 1 Axes>"
      ]
     },
     "metadata": {
      "tags": []
     },
     "output_type": "display_data"
    }
   ],
   "source": [
    "plt.imshow(agent.memory.buffer[mem_element][0][:,:,3], cmap=plt.cm.gray)"
   ]
  },
  {
   "cell_type": "code",
   "execution_count": 39,
   "metadata": {
    "colab": {
     "base_uri": "https://localhost:8080/",
     "height": 2370
    },
    "colab_type": "code",
    "collapsed": false,
    "deletable": true,
    "editable": true,
    "id": "-ejzSuednC-P",
    "outputId": "8d8d7092-a889-428f-a95a-5c2a017dd71f",
    "scrolled": true
   },
   "outputs": [
    {
     "name": "stdout",
     "output_type": "stream",
     "text": [
      "replacing target\n",
      "Episode: 0 Total reward: 75.0 Explore P: 0.9922 Mean Training Loss 0.4186\n",
      "Episode: 1 Total reward: -45.0 Explore P: 0.9877 Mean Training Loss 0.2859\n",
      "Episode: 2 Total reward: 65.0 Explore P: 0.9813 Mean Training Loss 0.3563\n",
      "Episode: 3 Total reward: 30.0 Explore P: 0.9749 Mean Training Loss 0.2718\n",
      "Episode: 4 Total reward: 120.0 Explore P: 0.9672 Mean Training Loss 0.2615\n",
      "Episode: 5 Total reward: 60.0 Explore P: 0.9622 Mean Training Loss 0.3291\n",
      "Episode: 6 Total reward: 95.0 Explore P: 0.9558 Mean Training Loss 0.3264\n",
      "Episode: 7 Total reward: 65.0 Explore P: 0.9520 Mean Training Loss 0.3446\n",
      "Episode: 8 Total reward: -55.0 Explore P: 0.9481 Mean Training Loss 0.2857\n",
      "Episode: 9 Total reward: 65.0 Explore P: 0.9422 Mean Training Loss 0.2598\n",
      "Episode: 10 Total reward: 50.0 Explore P: 0.9375 Mean Training Loss 0.2463\n"
     ]
    },
    {
     "data": {
      "image/png": "[encoded data removed]",
      "text/plain": [
       "<Figure size 432x288 with 2 Axes>"
      ]
     },
     "metadata": {
      "tags": []
     },
     "output_type": "display_data"
    },
    {
     "name": "stdout",
     "output_type": "stream",
     "text": [
      "Episode: 11 Total reward: 120.0 Explore P: 0.9305 Mean Training Loss 0.2822\n",
      "Episode: 12 Total reward: -40.0 Explore P: 0.9259 Mean Training Loss 0.2061\n",
      "Episode: 13 Total reward: -5.0 Explore P: 0.9205 Mean Training Loss 0.1937\n",
      "Episode: 14 Total reward: 20.0 Explore P: 0.9142 Mean Training Loss 0.1800\n",
      "Episode: 15 Total reward: 145.0 Explore P: 0.9065 Mean Training Loss 0.2424\n",
      "Episode: 16 Total reward: 0.0 Explore P: 0.9029 Mean Training Loss 0.2382\n",
      "Episode: 17 Total reward: -15.0 Explore P: 0.8981 Mean Training Loss 0.2428\n",
      "Episode: 18 Total reward: 255.0 Explore P: 0.8897 Mean Training Loss 0.2839\n",
      "Episode: 19 Total reward: 100.0 Explore P: 0.8841 Mean Training Loss 0.2844\n",
      "Episode: 20 Total reward: 15.0 Explore P: 0.8788 Mean Training Loss 0.3025\n"
     ]
    },
    {
     "data": {
      "image/png": "[encoded data removed]",
      "text/plain": [
       "<Figure size 432x288 with 2 Axes>"
      ]
     },
     "metadata": {
      "tags": []
     },
     "output_type": "display_data"
    },
    {
     "name": "stdout",
     "output_type": "stream",
     "text": [
      "Episode: 21 Total reward: 165.0 Explore P: 0.8709 Mean Training Loss 0.3010\n",
      "Episode: 22 Total reward: 60.0 Explore P: 0.8649 Mean Training Loss 0.2765\n",
      "Episode: 23 Total reward: 45.0 Explore P: 0.8604 Mean Training Loss 0.2991\n",
      "Episode: 24 Total reward: 75.0 Explore P: 0.8547 Mean Training Loss 0.2740\n",
      "Episode: 25 Total reward: 15.0 Explore P: 0.8506 Mean Training Loss 0.3621\n",
      "Episode: 26 Total reward: 150.0 Explore P: 0.8426 Mean Training Loss 0.3202\n",
      "Episode: 27 Total reward: -10.0 Explore P: 0.8395 Mean Training Loss 0.3659\n",
      "Episode: 28 Total reward: 15.0 Explore P: 0.8357 Mean Training Loss 0.3113\n",
      "Episode: 29 Total reward: 45.0 Explore P: 0.8297 Mean Training Loss 0.3323\n",
      "Episode: 30 Total reward: 95.0 Explore P: 0.8213 Mean Training Loss 0.3322\n"
     ]
    },
    {
     "data": {
      "image/png": "[encoded data removed]",
      "text/plain": [
       "<Figure size 432x288 with 2 Axes>"
      ]
     },
     "metadata": {
      "tags": []
     },
     "output_type": "display_data"
    },
    {
     "name": "stdout",
     "output_type": "stream",
     "text": [
      "Episode: 31 Total reward: 15.0 Explore P: 0.8145 Mean Training Loss 0.2861\n",
      "Episode: 32 Total reward: 300.0 Explore P: 0.8040 Mean Training Loss 0.2650\n",
      "Episode: 33 Total reward: 30.0 Explore P: 0.7968 Mean Training Loss 0.2328\n",
      "Episode: 34 Total reward: 20.0 Explore P: 0.7919 Mean Training Loss 0.2725\n",
      "Episode: 35 Total reward: 75.0 Explore P: 0.7858 Mean Training Loss 0.2786\n",
      "Episode: 36 Total reward: -15.0 Explore P: 0.7812 Mean Training Loss 0.2512\n",
      "Episode: 37 Total reward: 45.0 Explore P: 0.7763 Mean Training Loss 0.2863\n",
      "Episode: 38 Total reward: 90.0 Explore P: 0.7710 Mean Training Loss 0.3561\n",
      "Episode: 39 Total reward: 95.0 Explore P: 0.7624 Mean Training Loss 0.3210\n",
      "Episode: 40 Total reward: -10.0 Explore P: 0.7594 Mean Training Loss 0.3727\n"
     ]
    },
    {
     "data": {
      "image/png": "[encoded data removed]",
      "text/plain": [
       "<Figure size 432x288 with 2 Axes>"
      ]
     },
     "metadata": {
      "tags": []
     },
     "output_type": "display_data"
    },
    {
     "name": "stdout",
     "output_type": "stream",
     "text": [
      "Episode: 41 Total reward: 50.0 Explore P: 0.7541 Mean Training Loss 0.3196\n",
      "Episode: 42 Total reward: 15.0 Explore P: 0.7493 Mean Training Loss 0.2955\n",
      "Episode: 43 Total reward: 20.0 Explore P: 0.7446 Mean Training Loss 0.3400\n",
      "Episode: 44 Total reward: 65.0 Explore P: 0.7390 Mean Training Loss 0.3668\n",
      "Episode: 45 Total reward: 85.0 Explore P: 0.7334 Mean Training Loss 0.3952\n",
      "Episode: 46 Total reward: 0.0 Explore P: 0.7295 Mean Training Loss 0.5098\n",
      "Episode: 47 Total reward: 75.0 Explore P: 0.7240 Mean Training Loss 0.4862\n",
      "Episode: 48 Total reward: 15.0 Explore P: 0.7210 Mean Training Loss 0.4833\n"
     ]
    },
    {
     "ename": "KeyboardInterrupt",
     "evalue": "ignored",
     "output_type": "error",
     "traceback": [
      "\u001b[0;31m---------------------------------------------------------------------------\u001b[0m",
      "\u001b[0;31mKeyboardInterrupt\u001b[0m                         Traceback (most recent call last)",
      "\u001b[0;32m<ipython-input-39-48d0a416759b>\u001b[0m in \u001b[0;36m<module>\u001b[0;34m()\u001b[0m\n\u001b[1;32m     76\u001b[0m         \u001b[0;31m### LEARNING PART\u001b[0m\u001b[0;34m\u001b[0m\u001b[0;34m\u001b[0m\u001b[0;34m\u001b[0m\u001b[0m\n\u001b[1;32m     77\u001b[0m         \u001b[0;31m#if episode_steps % 1 == 0:\u001b[0m\u001b[0;34m\u001b[0m\u001b[0;34m\u001b[0m\u001b[0;34m\u001b[0m\u001b[0m\n\u001b[0;32m---> 78\u001b[0;31m         \u001b[0mloss\u001b[0m \u001b[0;34m=\u001b[0m \u001b[0magent\u001b[0m\u001b[0;34m.\u001b[0m\u001b[0mlearn\u001b[0m\u001b[0;34m(\u001b[0m\u001b[0mbatch_size\u001b[0m\u001b[0;34m,\u001b[0m \u001b[0mconsecutive_bool\u001b[0m\u001b[0;34m)\u001b[0m\u001b[0;34m\u001b[0m\u001b[0;34m\u001b[0m\u001b[0m\n\u001b[0m\u001b[1;32m     79\u001b[0m         \u001b[0mepisode_losses\u001b[0m\u001b[0;34m.\u001b[0m\u001b[0mappend\u001b[0m\u001b[0;34m(\u001b[0m\u001b[0mloss\u001b[0m\u001b[0;34m)\u001b[0m\u001b[0;34m\u001b[0m\u001b[0;34m\u001b[0m\u001b[0m\n\u001b[1;32m     80\u001b[0m \u001b[0;34m\u001b[0m\u001b[0m\n",
      "\u001b[0;32m<ipython-input-19-545b95fd952b>\u001b[0m in \u001b[0;36mlearn\u001b[0;34m(self, batch_size, consecutive_bool)\u001b[0m\n\u001b[1;32m     81\u001b[0m \u001b[0;34m\u001b[0m\u001b[0m\n\u001b[1;32m     82\u001b[0m         \u001b[0;31m# Get predictions from both networks\u001b[0m\u001b[0;34m\u001b[0m\u001b[0;34m\u001b[0m\u001b[0;34m\u001b[0m\u001b[0m\n\u001b[0;32m---> 83\u001b[0;31m         \u001b[0mQpred\u001b[0m  \u001b[0;34m=\u001b[0m \u001b[0mself\u001b[0m\u001b[0;34m.\u001b[0m\u001b[0mQ_eval\u001b[0m\u001b[0;34m.\u001b[0m\u001b[0mforward\u001b[0m\u001b[0;34m(\u001b[0m\u001b[0mbatch_states\u001b[0m\u001b[0;34m)\u001b[0m\u001b[0;34m.\u001b[0m\u001b[0mto\u001b[0m\u001b[0;34m(\u001b[0m\u001b[0mself\u001b[0m\u001b[0;34m.\u001b[0m\u001b[0mQ_eval\u001b[0m\u001b[0;34m.\u001b[0m\u001b[0mdevice\u001b[0m\u001b[0;34m)\u001b[0m\u001b[0;34m\u001b[0m\u001b[0;34m\u001b[0m\u001b[0m\n\u001b[0m\u001b[1;32m     84\u001b[0m         \u001b[0mtarget\u001b[0m \u001b[0;34m=\u001b[0m \u001b[0mself\u001b[0m\u001b[0;34m.\u001b[0m\u001b[0mQ_eval\u001b[0m\u001b[0;34m.\u001b[0m\u001b[0mforward\u001b[0m\u001b[0;34m(\u001b[0m\u001b[0mbatch_states\u001b[0m\u001b[0;34m)\u001b[0m\u001b[0;34m.\u001b[0m\u001b[0mto\u001b[0m\u001b[0;34m(\u001b[0m\u001b[0mself\u001b[0m\u001b[0;34m.\u001b[0m\u001b[0mQ_eval\u001b[0m\u001b[0;34m.\u001b[0m\u001b[0mdevice\u001b[0m\u001b[0;34m)\u001b[0m\u001b[0;34m\u001b[0m\u001b[0;34m\u001b[0m\u001b[0m\n\u001b[1;32m     85\u001b[0m         \u001b[0mQnext\u001b[0m \u001b[0;34m=\u001b[0m \u001b[0mself\u001b[0m\u001b[0;34m.\u001b[0m\u001b[0mQ_next\u001b[0m\u001b[0;34m.\u001b[0m\u001b[0mforward\u001b[0m\u001b[0;34m(\u001b[0m\u001b[0mbatch_next_states\u001b[0m\u001b[0;34m)\u001b[0m\u001b[0;34m.\u001b[0m\u001b[0mto\u001b[0m\u001b[0;34m(\u001b[0m\u001b[0mself\u001b[0m\u001b[0;34m.\u001b[0m\u001b[0mQ_next\u001b[0m\u001b[0;34m.\u001b[0m\u001b[0mdevice\u001b[0m\u001b[0;34m)\u001b[0m\u001b[0;34m\u001b[0m\u001b[0;34m\u001b[0m\u001b[0m\n",
      "\u001b[0;32m<ipython-input-18-e8e7bee9c82f>\u001b[0m in \u001b[0;36mforward\u001b[0;34m(self, x)\u001b[0m\n\u001b[1;32m     37\u001b[0m \u001b[0;34m\u001b[0m\u001b[0m\n\u001b[1;32m     38\u001b[0m \u001b[0;34m\u001b[0m\u001b[0m\n\u001b[0;32m---> 39\u001b[0;31m         \u001b[0mx\u001b[0m \u001b[0;34m=\u001b[0m \u001b[0mF\u001b[0m\u001b[0;34m.\u001b[0m\u001b[0melu\u001b[0m\u001b[0;34m(\u001b[0m\u001b[0mself\u001b[0m\u001b[0;34m.\u001b[0m\u001b[0mbn1\u001b[0m\u001b[0;34m(\u001b[0m\u001b[0mself\u001b[0m\u001b[0;34m.\u001b[0m\u001b[0mconv1\u001b[0m\u001b[0;34m(\u001b[0m\u001b[0mx\u001b[0m\u001b[0;34m)\u001b[0m\u001b[0;34m)\u001b[0m\u001b[0;34m)\u001b[0m\u001b[0;34m\u001b[0m\u001b[0;34m\u001b[0m\u001b[0m\n\u001b[0m\u001b[1;32m     40\u001b[0m         \u001b[0mx\u001b[0m \u001b[0;34m=\u001b[0m \u001b[0mF\u001b[0m\u001b[0;34m.\u001b[0m\u001b[0melu\u001b[0m\u001b[0;34m(\u001b[0m\u001b[0mself\u001b[0m\u001b[0;34m.\u001b[0m\u001b[0mbn2\u001b[0m\u001b[0;34m(\u001b[0m\u001b[0mself\u001b[0m\u001b[0;34m.\u001b[0m\u001b[0mconv2\u001b[0m\u001b[0;34m(\u001b[0m\u001b[0mx\u001b[0m\u001b[0;34m)\u001b[0m\u001b[0;34m)\u001b[0m\u001b[0;34m)\u001b[0m\u001b[0;34m\u001b[0m\u001b[0;34m\u001b[0m\u001b[0m\n\u001b[1;32m     41\u001b[0m         \u001b[0mx\u001b[0m \u001b[0;34m=\u001b[0m \u001b[0mF\u001b[0m\u001b[0;34m.\u001b[0m\u001b[0melu\u001b[0m\u001b[0;34m(\u001b[0m\u001b[0mself\u001b[0m\u001b[0;34m.\u001b[0m\u001b[0mbn3\u001b[0m\u001b[0;34m(\u001b[0m\u001b[0mself\u001b[0m\u001b[0;34m.\u001b[0m\u001b[0mconv3\u001b[0m\u001b[0;34m(\u001b[0m\u001b[0mx\u001b[0m\u001b[0;34m)\u001b[0m\u001b[0;34m)\u001b[0m\u001b[0;34m)\u001b[0m\u001b[0;34m\u001b[0m\u001b[0;34m\u001b[0m\u001b[0m\n",
      "\u001b[0;32m/usr/local/lib/python3.6/dist-packages/torch/nn/modules/module.py\u001b[0m in \u001b[0;36m__call__\u001b[0;34m(self, *input, **kwargs)\u001b[0m\n\u001b[1;32m    491\u001b[0m             \u001b[0mresult\u001b[0m \u001b[0;34m=\u001b[0m \u001b[0mself\u001b[0m\u001b[0;34m.\u001b[0m\u001b[0m_slow_forward\u001b[0m\u001b[0;34m(\u001b[0m\u001b[0;34m*\u001b[0m\u001b[0minput\u001b[0m\u001b[0;34m,\u001b[0m \u001b[0;34m**\u001b[0m\u001b[0mkwargs\u001b[0m\u001b[0;34m)\u001b[0m\u001b[0;34m\u001b[0m\u001b[0;34m\u001b[0m\u001b[0m\n\u001b[1;32m    492\u001b[0m         \u001b[0;32melse\u001b[0m\u001b[0;34m:\u001b[0m\u001b[0;34m\u001b[0m\u001b[0;34m\u001b[0m\u001b[0m\n\u001b[0;32m--> 493\u001b[0;31m             \u001b[0mresult\u001b[0m \u001b[0;34m=\u001b[0m \u001b[0mself\u001b[0m\u001b[0;34m.\u001b[0m\u001b[0mforward\u001b[0m\u001b[0;34m(\u001b[0m\u001b[0;34m*\u001b[0m\u001b[0minput\u001b[0m\u001b[0;34m,\u001b[0m \u001b[0;34m**\u001b[0m\u001b[0mkwargs\u001b[0m\u001b[0;34m)\u001b[0m\u001b[0;34m\u001b[0m\u001b[0;34m\u001b[0m\u001b[0m\n\u001b[0m\u001b[1;32m    494\u001b[0m         \u001b[0;32mfor\u001b[0m \u001b[0mhook\u001b[0m \u001b[0;32min\u001b[0m \u001b[0mself\u001b[0m\u001b[0;34m.\u001b[0m\u001b[0m_forward_hooks\u001b[0m\u001b[0;34m.\u001b[0m\u001b[0mvalues\u001b[0m\u001b[0;34m(\u001b[0m\u001b[0;34m)\u001b[0m\u001b[0;34m:\u001b[0m\u001b[0;34m\u001b[0m\u001b[0;34m\u001b[0m\u001b[0m\n\u001b[1;32m    495\u001b[0m             \u001b[0mhook_result\u001b[0m \u001b[0;34m=\u001b[0m \u001b[0mhook\u001b[0m\u001b[0;34m(\u001b[0m\u001b[0mself\u001b[0m\u001b[0;34m,\u001b[0m \u001b[0minput\u001b[0m\u001b[0;34m,\u001b[0m \u001b[0mresult\u001b[0m\u001b[0;34m)\u001b[0m\u001b[0;34m\u001b[0m\u001b[0;34m\u001b[0m\u001b[0m\n",
      "\u001b[0;32m/usr/local/lib/python3.6/dist-packages/torch/nn/modules/conv.py\u001b[0m in \u001b[0;36mforward\u001b[0;34m(self, input)\u001b[0m\n\u001b[1;32m    336\u001b[0m                             _pair(0), self.dilation, self.groups)\n\u001b[1;32m    337\u001b[0m         return F.conv2d(input, self.weight, self.bias, self.stride,\n\u001b[0;32m--> 338\u001b[0;31m                         self.padding, self.dilation, self.groups)\n\u001b[0m\u001b[1;32m    339\u001b[0m \u001b[0;34m\u001b[0m\u001b[0m\n\u001b[1;32m    340\u001b[0m \u001b[0;34m\u001b[0m\u001b[0m\n",
      "\u001b[0;31mKeyboardInterrupt\u001b[0m: "
     ]
    }
   ],
   "source": [
    "# Train the Model!\n",
    "all_losses = []\n",
    "all_rewards = []\n",
    "explore_probs = []\n",
    "\n",
    "for episode in range(total_episodes):\n",
    "    # Set episode_steps to 0\n",
    "    episode_steps = 0\n",
    "    done = False\n",
    "\n",
    "    # Initialize the rewards of the episode\n",
    "    episode_rewards = [] \n",
    "    episode_losses = []\n",
    "\n",
    "    # Make a new episode and observe the first state\n",
    "    frame = env.reset()\n",
    "    prior_num_lives = 3\n",
    "\n",
    "    # Remember that stack frame function also call our preprocess function.\n",
    "    state, frame_queue = stack_frames(frame_queue, frame, is_new_episode=True)\n",
    "\n",
    "    while (episode_steps < max_steps) & (~done):\n",
    "        episode_steps += 1\n",
    "\n",
    "        # Predict the action to take and take it\n",
    "        action, explore_probability = agent.chooseAction(state.unsqueeze(0).to(agent.Q_eval.device))\n",
    "        \n",
    "        #Perform the action and get the next_state, reward, and done information\n",
    "        next_frame, reward, done, info = env.step(action)\n",
    "        num_lives = info['ale.lives']\n",
    "        \n",
    "        if num_lives < prior_num_lives:\n",
    "            reward = -20.0\n",
    "            \n",
    "        prior_num_lives = num_lives\n",
    "\n",
    "        if episode_render:\n",
    "            env.render()\n",
    "\n",
    "        # Add the reward to total reward\n",
    "        episode_rewards.append(reward)\n",
    "\n",
    "        # If the game is finished\n",
    "        if done:\n",
    "            # The episode ends so no next state\n",
    "            next_frame = np.zeros((110,84), dtype=np.int)\n",
    "\n",
    "            next_state, frame_queue = stack_frames(frame_queue, next_frame, is_new_episode=False)\n",
    "\n",
    "            # Get the total reward of the episode\n",
    "            total_reward = sum(episode_rewards)\n",
    "            mean_loss = sum(episode_losses)/len(episode_losses)\n",
    "            \n",
    "            all_losses.append(mean_loss)\n",
    "            all_rewards.append(total_reward)\n",
    "            explore_probs.append(explore_probability)\n",
    "\n",
    "            print('Episode: {}'.format(episode),\n",
    "                  'Total reward: {}'.format(total_reward),\n",
    "                  'Explore P: {:.4f}'.format(explore_probability),\n",
    "                  'Mean Training Loss {:.4f}'.format(mean_loss))\n",
    "\n",
    "            # Store transition <st,at,rt+1,st+1> in memory D\n",
    "            agent.storeTransition(state, action, reward, next_state, done)\n",
    "\n",
    "        else:\n",
    "            # Stack the frame of the next_state\n",
    "            next_state, frame_queue = stack_frames(frame_queue, next_frame, is_new_episode=False)\n",
    "\n",
    "            # Add experience to memory\n",
    "            agent.storeTransition(state, action, reward, next_state, done)\n",
    "\n",
    "            # st+1 is now our current state\n",
    "            state = next_state\n",
    "\n",
    "\n",
    "        ### LEARNING PART  \n",
    "        #if episode_steps % 1 == 0:\n",
    "        loss = agent.learn(batch_size, consecutive_bool)\n",
    "        episode_losses.append(loss)\n",
    "    \n",
    "    \n",
    "    if (episode % 10 == 0) & (episode != 0):\n",
    "      fig, ax1 = plt.subplots()\n",
    "      avg_window = 8\n",
    "\n",
    "      ax1.set_xlabel('Episodes')\n",
    "      ax1.set_ylabel('Rewards', color='tab:red')\n",
    "      ax1.plot(range(avg_window-1, episode+1), running_mean(all_rewards, avg_window), color='tab:red')\n",
    "      ax1.tick_params(axis='y', labelcolor='tab:red')\n",
    "\n",
    "      ax2 = ax1.twinx()  # instantiate a second axes that shares the same x-axis\n",
    "\n",
    "      ax2.set_ylabel('Loss', color='tab:blue')  # we already handled the x-label with ax1\n",
    "      ax2.plot(range(avg_window-1, episode+1), running_mean(all_losses, avg_window), color='tab:blue')\n",
    "      ax2.plot(range(avg_window-1, episode+1), running_mean(explore_probs, avg_window))\n",
    "      ax2.tick_params(axis='y', labelcolor='tab:blue')\n",
    "\n",
    "      fig.tight_layout()  # otherwise the right y-label is slightly clipped\n",
    "      plt.show()"
   ]
  },
  {
   "cell_type": "code",
   "execution_count": 0,
   "metadata": {
    "colab": {},
    "colab_type": "code",
    "collapsed": true,
    "deletable": true,
    "editable": true,
    "id": "NCe6oXs3nC-V"
   },
   "outputs": [],
   "source": [
    "with open('trained_new_loss.pkl', 'wb') as f:\n",
    "    pickle.dump(agent, f)"
   ]
  },
  {
   "cell_type": "code",
   "execution_count": 0,
   "metadata": {
    "colab": {},
    "colab_type": "code",
    "collapsed": true,
    "deletable": true,
    "editable": true,
    "id": "I_P9nVCZ7BAN"
   },
   "outputs": [],
   "source": [
    "with open('trained.pkl', 'rb') as f:\n",
    "    trained500 = pickle.load(f)"
   ]
  },
  {
   "cell_type": "code",
   "execution_count": 0,
   "metadata": {
    "colab": {},
    "colab_type": "code",
    "collapsed": true,
    "deletable": true,
    "editable": true,
    "id": "qq7-GON-SCUI"
   },
   "outputs": [],
   "source": []
  }
 ],
 "metadata": {
  "accelerator": "GPU",
  "colab": {
   "collapsed_sections": [],
   "name": "Robotic Learning Final.ipynb",
   "provenance": [],
   "version": "0.3.2"
  },
  "kernelspec": {
   "display_name": "Python 3",
   "language": "python",
   "name": "python3"
  },
  "language_info": {
   "codemirror_mode": {
    "name": "ipython",
    "version": 3
   },
   "file_extension": ".py",
   "mimetype": "text/x-python",
   "name": "python",
   "nbconvert_exporter": "python",
   "pygments_lexer": "ipython3",
   "version": "3.7.2"
  }
 },
 "nbformat": 4,
 "nbformat_minor": 0
}
