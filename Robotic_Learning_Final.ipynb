{
  "nbformat": 4,
  "nbformat_minor": 0,
  "metadata": {
    "colab": {
      "name": "Robotic_Learning_Final.ipynb",
      "version": "0.3.2",
      "provenance": [],
      "collapsed_sections": []
    },
    "language_info": {
      "codemirror_mode": {
        "name": "ipython",
        "version": 3
      },
      "file_extension": ".py",
      "mimetype": "text/x-python",
      "name": "python",
      "nbconvert_exporter": "python",
      "pygments_lexer": "ipython3",
      "version": "3.7.2"
    },
    "kernelspec": {
      "display_name": "Python 3",
      "language": "python",
      "name": "python3"
    },
    "accelerator": "GPU"
  },
  "cells": [
    {
      "cell_type": "code",
      "metadata": {
        "colab_type": "code",
        "deletable": true,
        "editable": true,
        "id": "rsL_7JHVnC74",
        "colab": {}
      },
      "source": [
        "import gym\n",
        "import random\n",
        "import time\n",
        "import pickle\n",
        "import itertools\n",
        "#from gym.envs.classic_control import rendering "
      ],
      "execution_count": 0,
      "outputs": []
    },
    {
      "cell_type": "code",
      "metadata": {
        "colab_type": "code",
        "deletable": true,
        "editable": true,
        "id": "1TaRn7CjnC8F",
        "colab": {}
      },
      "source": [
        "def repeat_upsample(rgb_array, k=1, l=1, err=[]):\n",
        "    # repeat kinda crashes if k/l are zero\n",
        "    if k <= 0 or l <= 0: \n",
        "        if not err: \n",
        "            print(\"Number of repeats must be larger than 0, k: {}, l: {}, returning default array!\".format(k, l))\n",
        "            err.append('logged')\n",
        "        return rgb_array\n",
        "\n",
        "    # repeat the pixels k times along the y axis and l times along the x axis\n",
        "    # if the input image is of shape (m,n,3), the output image will be of shape (k*m, l*n, 3)\n",
        "\n",
        "    return np.repeat(np.repeat(rgb_array, k, axis=0), l, axis=1)"
      ],
      "execution_count": 0,
      "outputs": []
    },
    {
      "cell_type": "code",
      "metadata": {
        "colab_type": "code",
        "deletable": true,
        "editable": true,
        "id": "48bQI8g3nC8L",
        "colab": {}
      },
      "source": [
        "viewer_S = rendering.SimpleImageViewer()\n",
        "viewer_A = rendering.SimpleImageViewer()\n",
        "viewer_D = rendering.SimpleImageViewer()"
      ],
      "execution_count": 0,
      "outputs": []
    },
    {
      "cell_type": "code",
      "metadata": {
        "colab_type": "code",
        "deletable": true,
        "editable": true,
        "id": "tkuJa9dNnC8R",
        "outputId": "6eb1c3c8-89b3-44f3-cb83-a7e47a4132d3",
        "colab": {}
      },
      "source": [
        "env_S = gym.make('SpaceInvaders-v0')\n",
        "print(\"Action Space: \", env_S.action_space)\n",
        "print(\"Observation Space: \", env_S.observation_space)"
      ],
      "execution_count": 0,
      "outputs": [
        {
          "output_type": "stream",
          "text": [
            "Action Space:  Discrete(6)\n",
            "Observation Space:  Box(210, 160, 3)\n"
          ],
          "name": "stdout"
        }
      ]
    },
    {
      "cell_type": "code",
      "metadata": {
        "colab_type": "code",
        "deletable": true,
        "editable": true,
        "id": "g75twpN6nC8Z",
        "outputId": "06cae319-826d-4c52-adc4-d25e6051051a",
        "colab": {}
      },
      "source": [
        "env_A = gym.make('Assault-v0')\n",
        "print(\"Action Space: \", env_A.action_space)\n",
        "print(\"Observation Space: \", env_A.observation_space)"
      ],
      "execution_count": 0,
      "outputs": [
        {
          "output_type": "stream",
          "text": [
            "Action Space:  Discrete(7)\n",
            "Observation Space:  Box(250, 160, 3)\n"
          ],
          "name": "stdout"
        }
      ]
    },
    {
      "cell_type": "code",
      "metadata": {
        "colab_type": "code",
        "deletable": true,
        "editable": true,
        "id": "AGd2vcbwnC8f",
        "outputId": "a159c28e-23fd-4c5a-9df4-4c22b1084d70",
        "colab": {}
      },
      "source": [
        "env_D = gym.make('DemonAttack-v0')\n",
        "print(\"Action Space: \", env_D.action_space)\n",
        "print(\"Observation Space: \", env_D.observation_space)"
      ],
      "execution_count": 0,
      "outputs": [
        {
          "output_type": "stream",
          "text": [
            "Action Space:  Discrete(6)\n",
            "Observation Space:  Box(210, 160, 3)\n"
          ],
          "name": "stdout"
        }
      ]
    },
    {
      "cell_type": "code",
      "metadata": {
        "colab_type": "code",
        "deletable": true,
        "editable": true,
        "id": "2NYhGj8wnC8m",
        "colab": {}
      },
      "source": [
        "class Agent_all():\n",
        "    def __init__(self, env):\n",
        "        # 0 = nothing, 1 = fire, 2 = right, 3 = left\n",
        "        self.common_actions = [0, 1, 2, 3]\n",
        "        self.assult_translation = {0:1, 1:2, 2:3, 3:4}\n",
        "    \n",
        "    def get_action(self, state):\n",
        "        base_action = random.choice(self.common_actions)\n",
        "        \n",
        "        assault_action = self.assult_translation[base_action]\n",
        "        \n",
        "        return base_action, base_action, assault_action"
      ],
      "execution_count": 0,
      "outputs": []
    },
    {
      "cell_type": "code",
      "metadata": {
        "colab_type": "code",
        "deletable": true,
        "editable": true,
        "id": "8j7dbrjFnC8r",
        "colab": {}
      },
      "source": [
        "state_S = env_S.reset()\n",
        "state_A = env_A.reset()\n",
        "state_D = env_D.reset()"
      ],
      "execution_count": 0,
      "outputs": []
    },
    {
      "cell_type": "code",
      "metadata": {
        "colab_type": "code",
        "deletable": true,
        "editable": true,
        "id": "VFpRHXaUnC8v",
        "colab": {}
      },
      "source": [
        "agent = Agent_all(env_S)\n",
        "\n",
        "for _ in range(2000):\n",
        "    action_S, action_D, action_A = agent.get_action(state_S)\n",
        "    \n",
        "    state_S, reward_S, done_S, info_S = env_S.step(action_S)\n",
        "    \n",
        "    rgb_S = env_S.render('rgb_array')\n",
        "    rgb_S = rgb_S[22:195, :, :]\n",
        "    viewer_S.imshow(repeat_upsample(rgb_S, 3, 3))\n",
        "    \n",
        "    state_A, reward_A, done_A, info_A = env_A.step(action_A)\n",
        "    \n",
        "    rgb_A = env_A.render('rgb_array')\n",
        "    rgb_A = rgb_A[51:195+29, :, :]\n",
        "    viewer_A.imshow(repeat_upsample(rgb_A, 3, 3))\n",
        "    \n",
        "    state_D, reward_D, done_D, info_D = env_D.step(action_D)\n",
        "    \n",
        "    rgb_D = env_D.render('rgb_array')\n",
        "    rgb_D = rgb_D[15:188, :, :]\n",
        "    viewer_D.imshow(repeat_upsample(rgb_D, 3, 3))\n",
        "    \n",
        "    #time.sleep(0.1)\n",
        "    if done_S & done_A & done_D:\n",
        "        break\n",
        "    \n",
        "    "
      ],
      "execution_count": 0,
      "outputs": []
    },
    {
      "cell_type": "code",
      "metadata": {
        "colab_type": "code",
        "deletable": true,
        "editable": true,
        "id": "bZT8TcxinC81",
        "outputId": "8fe3d9f4-064e-4817-8933-d8e508e0fbf2",
        "colab": {}
      },
      "source": [
        "rgb_A.mean(axis=2).shape"
      ],
      "execution_count": 0,
      "outputs": [
        {
          "output_type": "execute_result",
          "data": {
            "text/plain": [
              "(250, 160)"
            ]
          },
          "metadata": {
            "tags": []
          },
          "execution_count": 13
        }
      ]
    },
    {
      "cell_type": "markdown",
      "metadata": {
        "colab_type": "text",
        "deletable": true,
        "editable": true,
        "id": "aLtvRhL5nC89"
      },
      "source": [
        "SI: 0 = nothing, 1 = fire, 2 = right, 3 = left, 4 = right + fire, 5 = left + fire  \n",
        "A:  0 = nothing, 1 = nothing?, 2 = fire, 3 = right, 4 = left, 5 = shoot right, 6 = shoot left  \n",
        "DA: 0 = nothing, 1 = fire, 2 = right, 3 = left, 4 = right + fire, 5 = left + fire  "
      ]
    },
    {
      "cell_type": "code",
      "metadata": {
        "colab_type": "code",
        "deletable": true,
        "editable": true,
        "id": "vfG1tF8UnC8-",
        "colab": {}
      },
      "source": [
        ""
      ],
      "execution_count": 0,
      "outputs": []
    },
    {
      "cell_type": "code",
      "metadata": {
        "colab_type": "code",
        "deletable": true,
        "editable": true,
        "id": "CwVeNH2jnC9E",
        "colab": {}
      },
      "source": [
        ""
      ],
      "execution_count": 0,
      "outputs": []
    },
    {
      "cell_type": "markdown",
      "metadata": {
        "colab_type": "text",
        "collapsed": true,
        "deletable": true,
        "editable": true,
        "id": "pZgFbkOknC9H"
      },
      "source": [
        "# Tutorial\n",
        "Full code, but using tensorflow\n",
        " - https://github.com/simoninithomas/Deep_reinforcement_learning_Course/blob/master/Deep%20Q%20Learning/Space%20Invaders/DQN%20Atari%20Space%20Invaders.ipynb  \n",
        " - https://www.youtube.com/watch?v=gCJyVX98KJ4\n",
        "\n",
        "Using Pytorch\n",
        " - https://www.youtube.com/watch?v=RfNxXlO6BiA\n",
        "\n",
        "Also\n",
        " - https://www.youtube.com/watch?v=dpBKz1wxE_c\n",
        " \n",
        "Frame Skipping and Stacking\n",
        " - https://danieltakeshi.github.io/2016/11/25/frame-skipping-and-preprocessing-for-deep-q-networks-on-atari-2600-games/\n",
        " \n",
        "General DQN Walkthrough =\n",
        " - https://medium.com/@jonathan_hui/rl-dqn-deep-q-network-e207751f7ae4"
      ]
    },
    {
      "cell_type": "code",
      "metadata": {
        "colab_type": "code",
        "deletable": true,
        "editable": true,
        "id": "9wi-qqj8nC9J",
        "colab": {}
      },
      "source": [
        "import numpy as np           # Handle matrices\n",
        "\n",
        "from skimage import transform # Help us to preprocess the frames\n",
        "from skimage.color import rgb2gray # Help us to gray our frames\n",
        "\n",
        "import matplotlib.pyplot as plt # Display graphs\n",
        "\n",
        "from collections import deque# Ordered collection with ends\n",
        "\n",
        "import random\n",
        "\n",
        "import warnings # This ignore all the warning messages that are normally printed during the training because of skiimage\n",
        "warnings.filterwarnings('ignore')"
      ],
      "execution_count": 0,
      "outputs": []
    },
    {
      "cell_type": "code",
      "metadata": {
        "deletable": true,
        "editable": true,
        "id": "dvh5NY404CiW",
        "colab_type": "code",
        "colab": {}
      },
      "source": [
        "import gym\n",
        "import random\n",
        "import time\n",
        "import pickle"
      ],
      "execution_count": 0,
      "outputs": []
    },
    {
      "cell_type": "code",
      "metadata": {
        "colab_type": "code",
        "deletable": true,
        "editable": true,
        "id": "w8_TtqncnC9N",
        "colab": {}
      },
      "source": [
        "import torch as T\n",
        "import torch.nn as nn\n",
        "import torch.optim as optim\n",
        "import torch.nn.functional as F"
      ],
      "execution_count": 0,
      "outputs": []
    },
    {
      "cell_type": "code",
      "metadata": {
        "deletable": true,
        "editable": true,
        "id": "3PiFCz8Q4Cif",
        "colab_type": "code",
        "colab": {}
      },
      "source": [
        "import atari_wrappers, wrappers"
      ],
      "execution_count": 0,
      "outputs": []
    },
    {
      "cell_type": "code",
      "metadata": {
        "colab_type": "code",
        "deletable": true,
        "editable": true,
        "id": "rm-KPHa5wcow",
        "colab": {}
      },
      "source": [
        "def running_mean(x, N):\n",
        "    cumsum = np.cumsum(np.insert(x, 0, 0)) \n",
        "    return (cumsum[N:] - cumsum[:-N]) / float(N)"
      ],
      "execution_count": 0,
      "outputs": []
    },
    {
      "cell_type": "code",
      "metadata": {
        "colab_type": "code",
        "deletable": true,
        "editable": true,
        "id": "VsEH8smcnC9h",
        "colab": {}
      },
      "source": [
        "class Memory():\n",
        "    def __init__(self, max_size):\n",
        "        self.buffer = deque(maxlen = max_size)\n",
        "    \n",
        "    def add(self, transition):\n",
        "        self.buffer.append(transition)\n",
        "    \n",
        "    def sample(self, batch_size):\n",
        "        buffer_size = len(self.buffer)\n",
        "        \n",
        "        random_indices = np.random.choice(np.arange(buffer_size),\n",
        "                                size = batch_size,\n",
        "                                replace = False)\n",
        "        sample = [self.buffer[i] for i in random_indices]\n",
        "        \n",
        "        \n",
        "        return sample"
      ],
      "execution_count": 0,
      "outputs": []
    },
    {
      "cell_type": "code",
      "metadata": {
        "colab_type": "code",
        "deletable": true,
        "editable": true,
        "id": "jZxwMr1rnC9l",
        "colab": {}
      },
      "source": [
        "def conv2d_size_out(size, kernel_size = 5, stride = 2):\n",
        "    \"\"\"\n",
        "    Number of Linear input connections depends on output of conv2d layers\n",
        "    and therefore the input image size, so compute it.\n",
        "    \"\"\"\n",
        "    out_size = (size - (kernel_size - 1) - 1) // stride  + 1\n",
        "\n",
        "    return out_size"
      ],
      "execution_count": 0,
      "outputs": []
    },
    {
      "cell_type": "code",
      "metadata": {
        "colab_type": "code",
        "deletable": true,
        "editable": true,
        "id": "lyaeouS6nC9q",
        "colab": {}
      },
      "source": [
        "class DQN(nn.Module):\n",
        "\n",
        "    def __init__(self, frame_shape, num_outputs, alpha):\n",
        "        super(DQN, self).__init__()\n",
        "        self.alpha = alpha\n",
        "        \n",
        "        h, w, d = frame_shape\n",
        "        \n",
        "        self.conv1 = nn.Conv2d(4, 32, kernel_size=8, stride=4) #32 filters, 8x8, stride 4\n",
        "        self.bn1 = nn.BatchNorm2d(32)\n",
        "        self.conv2 = nn.Conv2d(32, 64, kernel_size=4, stride=2) \n",
        "        self.bn2 = nn.BatchNorm2d(64)\n",
        "        self.conv3 = nn.Conv2d(64, 64, kernel_size=3, stride=1)\n",
        "        self.bn3 = nn.BatchNorm2d(64)\n",
        "        \n",
        "        convw = conv2d_size_out(conv2d_size_out(conv2d_size_out(w)))\n",
        "        convh = conv2d_size_out(conv2d_size_out(conv2d_size_out(h)))\n",
        "        self.linear_input_size = convw * convh * 64\n",
        "        \n",
        "        self.fc1 = nn.Linear(self.linear_input_size, 512)\n",
        "        self.fc2 = nn.Linear(512, num_outputs)\n",
        "        \n",
        "        self.device = T.device('cuda:0' if T.cuda.is_available() else 'cpu')\n",
        "        self.to(self.device)\n",
        "        \n",
        "        self.optimizer = optim.Adam(self.parameters(), lr=alpha, betas=(0.95, 0.95), eps=0.01) # from the google paper\n",
        "        self.loss = nn.MSELoss()\n",
        "        \n",
        "\n",
        "    # Called with either one element to determine next action, or a batch\n",
        "    # during optimization.\n",
        "    def forward(self, x):\n",
        "        batch_shape = x.shape\n",
        "        x = x/255.0\n",
        "        \n",
        "        # Must transpose it - comes in as (h, w, frames). Change to (frames, h, w)\n",
        "        x = x.view(batch_shape[0], batch_shape[3], batch_shape[1], batch_shape[2])\n",
        "\n",
        "        \n",
        "        x = F.relu(self.bn1(self.conv1(x)))\n",
        "        x = F.relu(self.bn2(self.conv2(x)))\n",
        "        x = F.relu(self.bn3(self.conv3(x)))\n",
        "        \n",
        "        # Flatten \n",
        "        x = x.view(-1, self.linear_input_size)\n",
        "        \n",
        "        # Linear layers\n",
        "        x = F.relu(self.fc1(x))\n",
        "        q_vals = self.fc2(x)\n",
        "        \n",
        "        # q_vals is a q value for each action for each item in minibatch (Eg: 32 * 4)\n",
        "        \n",
        "        return q_vals\n"
      ],
      "execution_count": 0,
      "outputs": []
    },
    {
      "cell_type": "code",
      "metadata": {
        "colab_type": "code",
        "deletable": true,
        "editable": true,
        "id": "ciGAPeBInC9t",
        "colab": {}
      },
      "source": [
        "class Agent(object):\n",
        "    \n",
        "    def __init__(self, frame_shape, gamma, epsilon_start, epsilon_end, epsilon_decay, \n",
        "                 alpha, max_memory, replace, action_space):\n",
        "        self.gamma = gamma # Discount factor\n",
        "        self.epsilon_start = epsilon_start # For greedy action selection\n",
        "        self.epsilon_end = epsilon_end #How low epsilon can go\n",
        "        self.epsilon_decay = epsilon_decay\n",
        "        self.replace = replace # How often to replace target network\n",
        "        self.action_space = action_space\n",
        "        self.n_actions = len(action_space)\n",
        "        \n",
        "        self.steps = 0\n",
        "        self.learn_step_counter = 0 #How many times we've called learn function - For target network replacement\n",
        "        self.memory = Memory(max_memory)\n",
        "        \n",
        "        self.replace_target = replace\n",
        "        \n",
        "        self.Q_eval = DQN(frame_shape, len(action_space), alpha) # Agent's estimate of current set of states' Q\n",
        "        self.Q_next = DQN(frame_shape, len(action_space), alpha) # Agent's estimage of next set of states' Q\n",
        "        \n",
        "        self.action_values = T.Tensor(action_space).to(self.Q_eval.device)\n",
        "        \n",
        "        \n",
        "    def storeTransition(self, state, action, reward, result_state, done):\n",
        "        \"\"\"\n",
        "        Wrap the inputs into a \"Transition\" and puts in in memory \n",
        "        \"\"\"\n",
        "        transition = (state, action, reward, result_state, done)\n",
        "        self.memory.add(transition)\n",
        "        \n",
        "        \n",
        "    def chooseAction(self, observation, explore_bool=True):\n",
        "        \"\"\"\n",
        "        Epsilon Greedy strategy with decaying exploration prob.\n",
        "        \"\"\"\n",
        "        rand = np.random.rand()\n",
        "        \n",
        "        if not explore_bool:\n",
        "            explore_probability = 0\n",
        "            \n",
        "        else:\n",
        "            # Lower the exploration probability over time in accordance with \n",
        "            #  the number of times the model has learned \n",
        "            explore_probability = self.epsilon_end + (self.epsilon_start - self.epsilon_end) * \\\n",
        "                                  np.exp(-self.epsilon_decay * self.learn_step_counter)\n",
        "        \n",
        "        if rand < explore_probability:\n",
        "            action = np.random.choice(self.action_space)\n",
        "            \n",
        "        else:\n",
        "            observation = T.Tensor(np.array(observation)).unsqueeze(0).to(self.Q_eval.device)\n",
        "            actions_pred = self.Q_eval.forward(observation)\n",
        "                 \n",
        "            # Take first axis because actions returned as a matrix (1 x num_actions) \n",
        "            action = T.argmax(actions_pred[0]).item()\n",
        "            \n",
        "        self.steps += 1\n",
        "            \n",
        "        return action, explore_probability\n",
        "    \n",
        "    \n",
        "    def initial_fill_mem(self, env, pretrain_length, episode_render, obs_shape):\n",
        "        \"\"\"\n",
        "        Start filling the memory of the agent with a bunch of random moves and transitions to start learning from.\n",
        "        \"\"\"    \n",
        "        state = env.reset()\n",
        "\n",
        "        for i in range(pretrain_length):\n",
        "\n",
        "            # Get the next_state and the reward, done by taking a random action\n",
        "            action = np.random.choice(self.action_space)\n",
        "            next_state, reward, done, info = env.step(action)\n",
        "\n",
        "            if episode_render: env.render()\n",
        "\n",
        "            # If the episode is finished (we're dead 3x), then store a 0 next state and restart the env.\n",
        "            if not done:\n",
        "                # Add experience to memory\n",
        "                self.storeTransition(state, action, reward, next_state, done)\n",
        "\n",
        "                # Our new state is now the next_state\n",
        "                state = next_state\n",
        "                \n",
        "            else: \n",
        "                # We finished the episode, add a state of all black\n",
        "                next_state = np.zeros(obs_shape)\n",
        "\n",
        "                # Add experience to memory\n",
        "                self.storeTransition(state, action, reward, next_state, done)\n",
        "\n",
        "                # Start a new episode\n",
        "                state = env.reset()\n",
        "                \n",
        "                \n",
        "    def run_episode(self, env, learn_bool, explore_bool, max_steps, obs_shape, batch_size, episode_render, train_every):\n",
        "        \"\"\"\n",
        "        Run a single episode\n",
        "        \"\"\"\n",
        "        # Make a new episode and observe the first state\n",
        "        state = env.reset()\n",
        "        episode_reward = 0\n",
        "        episode_steps = 0\n",
        "        episode_losses = []\n",
        "        \n",
        "        done = False\n",
        "\n",
        "        while (episode_steps < max_steps) & (~done):\n",
        "            episode_steps += 1\n",
        "\n",
        "            # Predict the action to take and take it\n",
        "            action, explore_probability = agent.chooseAction(state, explore_bool)\n",
        "\n",
        "            #Perform the action and get the next_state, reward, and done information\n",
        "            next_state, reward, done, info = env.step(action)\n",
        "\n",
        "            if episode_render: env.render()\n",
        "\n",
        "            # Add the reward to total reward\n",
        "            episode_reward += reward\n",
        "\n",
        "            # If it terminated, add a blank screen as the next state\n",
        "            if done: next_state = np.zeros(obs_shape, dtype=np.int)\n",
        "\n",
        "            # Add experience to memory\n",
        "            self.storeTransition(state, action, reward, next_state, done)\n",
        "\n",
        "            # st+1 is now our current state\n",
        "            state = next_state\n",
        "\n",
        "            ### LEARNING PART  \n",
        "            if learn_bool & (episode_steps % train_every == 0): # Learn every 4 steps\n",
        "                loss = agent.learn(batch_size)\n",
        "                episode_losses.append(loss)\n",
        "\n",
        "\n",
        "        # Get the mean loss of the episode\n",
        "        mean_loss = sum(episode_losses)/len(episode_losses)\n",
        "\n",
        "        print('Episode: {}'.format(episode),\n",
        "              'Total reward: {}'.format(episode_reward),\n",
        "              'Explore P: {:.4f}'.format(explore_probability),\n",
        "              'Mean Training Loss {:.4f}'.format(mean_loss))\n",
        "        \n",
        "        return episode_reward, mean_loss, explore_probability\n",
        "    \n",
        "    \n",
        "    def learn(self, batch_size):\n",
        "        \"\"\"\n",
        "        Batch learn\n",
        "        \"\"\"\n",
        "        # Zero gradients for next batch\n",
        "        self.Q_eval.optimizer.zero_grad()\n",
        "        \n",
        "        # Target network replacement\n",
        "        if self.replace_target is not None:\n",
        "            if self.learn_step_counter % self.replace_target == 0:\n",
        "                print('replacing target')\n",
        "                self.Q_next.load_state_dict(self.Q_eval.state_dict())\n",
        "            \n",
        "        # Get a minibatch\n",
        "        minibatch = self.memory.sample(batch_size)\n",
        "        \n",
        "        batch_states =   T.stack([T.Tensor(np.array(i[0])).to(self.Q_eval.device) for i in minibatch])\n",
        "        batch_actions =  T.LongTensor([i[1] for i in minibatch]).to(self.Q_eval.device)\n",
        "        batch_rewards =  T.Tensor([i[2] for i in minibatch]).to(self.Q_eval.device)\n",
        "        batch_next_states = T.stack([T.Tensor(np.array(i[3])).to(self.Q_eval.device) for i in minibatch])\n",
        "        done_bools =  T.Tensor([i[4] for i in minibatch]).to(self.Q_eval.device)\n",
        "        \n",
        "        batch_index = T.arange(batch_size, dtype=T.long, device=self.Q_eval.device)\n",
        "        \n",
        "        # Get predictions from both networks\n",
        "        Qpred  = self.Q_eval.forward(batch_states).to(self.Q_eval.device)\n",
        "        target = self.Q_eval.forward(batch_states).to(self.Q_eval.device)\n",
        "        Qnext = self.Q_next.forward(batch_next_states).to(self.Q_next.device)\n",
        "        \n",
        "        target[batch_index, batch_actions] = batch_rewards + \\\n",
        "              self.gamma*T.max(Qnext, dim=1)[0]*done_bools\n",
        "      \n",
        "        \n",
        "        # Get loss and backprob\n",
        "        loss = self.Q_eval.loss(target, Qpred).to(self.Q_eval.device)\n",
        "        loss.backward()\n",
        "        self.Q_eval.optimizer.step()\n",
        "        \n",
        "        self.learn_step_counter += 1\n",
        "        \n",
        "        return loss.item()\n",
        "        "
      ],
      "execution_count": 0,
      "outputs": []
    },
    {
      "cell_type": "markdown",
      "metadata": {
        "colab_type": "text",
        "deletable": true,
        "editable": true,
        "id": "96k-VX5XnC95"
      },
      "source": [
        "### Running"
      ]
    },
    {
      "cell_type": "code",
      "metadata": {
        "colab_type": "code",
        "deletable": true,
        "editable": true,
        "id": "ulQSfHJmnC96",
        "colab": {}
      },
      "source": [
        "### MODEL HYPERPARAMETERS\n",
        "alpha =  0.00025                   # Alpha (aka learning rate)\n",
        "\n",
        "### TRAINING HYPERPARAMETERS\n",
        "total_episodes = 1000           # Total episodes for training\n",
        "max_steps = 50000              # Max possible steps in an episode\n",
        "batch_size = 32                # Batch size\n",
        "target_net_replace = 10000     # Target network replacement\n",
        "train_every = 4\n",
        "\n",
        "# Exploration parameters for epsilon greedy strategy\n",
        "epsilon_start = 1.0            # exploration probability at start\n",
        "epsilon_end = 0.1            # minimum exploration probability \n",
        "epsilon_decay = 0.00001           # exponential decay rate for exploration prob\n",
        "\n",
        "# Q learning hyperparameters\n",
        "gamma = 0.99                    # Discounting rate\n",
        "\n",
        "### MEMORY HYPERPARAMETERS\n",
        "pretrain_length =  50000         # Number of experiences stored in the Memory when initialized for the first time\n",
        "memory_size = 1000000           # Number of experiences the Memory can keep\n",
        "\n",
        "### PREPROCESSING HYPERPARAMETERS\n",
        "stack_size = 4                 # Number of frames stacked\n",
        "\n",
        "## TURN THIS TO TRUE IF YOU WANT TO RENDER THE ENVIRONMENT\n",
        "episode_render = False"
      ],
      "execution_count": 0,
      "outputs": []
    },
    {
      "cell_type": "code",
      "metadata": {
        "deletable": true,
        "editable": true,
        "id": "Ls6UP93G4Ci8",
        "colab_type": "code",
        "outputId": "e2bc90ff-2c13-46a6-871e-022758fca3ed",
        "colab": {
          "base_uri": "https://localhost:8080/",
          "height": 52
        }
      },
      "source": [
        "# Create our environment\n",
        "#env = atari_wrappers.make_atari('SpaceInvadersNoFrameskip-v0', max_steps)\n",
        "env = atari_wrappers.make_atari('PongNoFrameskip-v0', max_steps)\n",
        "env = atari_wrappers.wrap_deepmind(env, episode_life=True, clip_rewards=True, frame_stack=True, scale=False)\n",
        "\n",
        "action_space = range(env.action_space.n)\n",
        "obs_shape = env.observation_space.shape\n",
        "\n",
        "print(\"Action Space: \", action_space)\n",
        "print(\"Observation Space: \", obs_shape)\n"
      ],
      "execution_count": 18,
      "outputs": [
        {
          "output_type": "stream",
          "text": [
            "Action Space:  range(0, 6)\n",
            "Observation Space:  (84, 84, 4)\n"
          ],
          "name": "stdout"
        }
      ]
    },
    {
      "cell_type": "code",
      "metadata": {
        "colab_type": "code",
        "deletable": true,
        "editable": true,
        "id": "38JEBe1ynC98",
        "colab": {}
      },
      "source": [
        "agent = Agent(obs_shape, gamma, epsilon_start, epsilon_end, epsilon_decay, \n",
        "              alpha, memory_size, target_net_replace, action_space)"
      ],
      "execution_count": 0,
      "outputs": []
    },
    {
      "cell_type": "code",
      "metadata": {
        "colab_type": "code",
        "deletable": true,
        "editable": true,
        "id": "tQsn4Rl7naMk",
        "outputId": "118b0324-4a0f-4d0b-ecde-e9d2dd40bfd6",
        "colab": {
          "base_uri": "https://localhost:8080/",
          "height": 34
        }
      },
      "source": [
        "agent.Q_eval.device"
      ],
      "execution_count": 20,
      "outputs": [
        {
          "output_type": "execute_result",
          "data": {
            "text/plain": [
              "device(type='cuda', index=0)"
            ]
          },
          "metadata": {
            "tags": []
          },
          "execution_count": 20
        }
      ]
    },
    {
      "cell_type": "code",
      "metadata": {
        "colab_type": "code",
        "deletable": true,
        "editable": true,
        "id": "wqwWeoS6nC9_",
        "colab": {}
      },
      "source": [
        "agent.initial_fill_mem(env, pretrain_length, episode_render, obs_shape)"
      ],
      "execution_count": 0,
      "outputs": []
    },
    {
      "cell_type": "code",
      "metadata": {
        "colab_type": "code",
        "deletable": true,
        "editable": true,
        "id": "tYh30kJRnC-F",
        "outputId": "04f7251a-974a-44af-b234-369441b426f5",
        "colab": {
          "base_uri": "https://localhost:8080/",
          "height": 573
        }
      },
      "source": [
        "mem_element = -5\n",
        "\n",
        "fig=plt.figure(figsize=(8, 4))\n",
        "print(plt.imshow(np.array(agent.memory.buffer[mem_element][0]).sum(axis=2), cmap=plt.cm.gray))\n",
        "fig=plt.figure(figsize=(8, 4))\n",
        "print(plt.imshow(np.array(agent.memory.buffer[mem_element][3]).sum(axis=2), cmap=plt.cm.gray))\n",
        "agent.memory.buffer[mem_element][1], agent.memory.buffer[mem_element][2]"
      ],
      "execution_count": 22,
      "outputs": [
        {
          "output_type": "stream",
          "text": [
            "AxesImage(72,36;446.4x217.44)\n",
            "AxesImage(72,36;446.4x217.44)\n"
          ],
          "name": "stdout"
        },
        {
          "output_type": "execute_result",
          "data": {
            "text/plain": [
              "(0, 0.0)"
            ]
          },
          "metadata": {
            "tags": []
          },
          "execution_count": 22
        },
        {
          "output_type": "display_data",
          "data": {
            "image/png": "[encoded data removed]",
            "text/plain": [
              "<Figure size 576x288 with 1 Axes>"
            ]
          },
          "metadata": {
            "tags": []
          }
        },
        {
          "output_type": "display_data",
          "data": {
            "image/png": "[encoded data removed]",
            "text/plain": [
              "<Figure size 576x288 with 1 Axes>"
            ]
          },
          "metadata": {
            "tags": []
          }
        }
      ]
    },
    {
      "cell_type": "code",
      "metadata": {
        "colab_type": "code",
        "deletable": true,
        "editable": true,
        "id": "-ejzSuednC-P",
        "outputId": "b83867c4-cf04-4852-99a5-1da95025b32b",
        "scrolled": true,
        "colab": {
          "base_uri": "https://localhost:8080/",
          "height": 1029
        }
      },
      "source": [
        "# Train the Model!\n",
        "all_losses = []\n",
        "all_rewards = []\n",
        "explore_probs = []\n",
        "\n",
        "for episode in range(total_episodes):\n",
        "\n",
        "    episode_reward, mean_loss, explore_probability = agent.run_episode(env, True, True,\n",
        "                                 max_steps,  obs_shape, batch_size, episode_render, train_every)\n",
        "    \n",
        "    all_losses.append(mean_loss)\n",
        "    all_rewards.append(episode_reward)\n",
        "    explore_probs.append(explore_probability)\n",
        "    \n",
        "    \n",
        "    if (episode % 10 == 0) & (episode != 0):\n",
        "        fig, ax1 = plt.subplots()\n",
        "        avg_window = 8\n",
        "\n",
        "        ax1.set_xlabel('Episodes')\n",
        "        ax1.set_ylabel('Rewards', color='tab:red')\n",
        "        ax1.plot(range(avg_window-1, episode+1), running_mean(all_rewards, avg_window), color='tab:red')\n",
        "        ax1.tick_params(axis='y', labelcolor='tab:red')\n",
        "\n",
        "        ax2 = ax1.twinx()  # instantiate a second axes that shares the same x-axis\n",
        "\n",
        "        ax2.set_ylabel('Loss', color='tab:blue')  # we already handled the x-label with ax1\n",
        "        ax2.plot(range(avg_window-1, episode+1), running_mean(all_losses, avg_window), color='tab:blue')\n",
        "        #ax2.plot(range(avg_window-1, episode+1), running_mean(explore_probs, avg_window))\n",
        "        ax2.tick_params(axis='y', labelcolor='tab:blue')\n",
        "\n",
        "        fig.tight_layout()  # otherwise the right y-label is slightly clipped\n",
        "        plt.show()"
      ],
      "execution_count": 0,
      "outputs": [
        {
          "output_type": "stream",
          "text": [
            "replacing target\n",
            "Episode: 0 Total reward: -21.0 Explore P: 0.9980 Mean Training Loss 0.0045\n",
            "Episode: 1 Total reward: -21.0 Explore P: 0.9960 Mean Training Loss 0.0040\n",
            "Episode: 2 Total reward: -20.0 Explore P: 0.9937 Mean Training Loss 0.0032\n",
            "Episode: 3 Total reward: -20.0 Explore P: 0.9916 Mean Training Loss 0.0037\n",
            "Episode: 4 Total reward: -21.0 Explore P: 0.9897 Mean Training Loss 0.0029\n",
            "Episode: 5 Total reward: -20.0 Explore P: 0.9871 Mean Training Loss 0.0030\n",
            "Episode: 6 Total reward: -20.0 Explore P: 0.9848 Mean Training Loss 0.0025\n",
            "Episode: 7 Total reward: -19.0 Explore P: 0.9824 Mean Training Loss 0.0020\n",
            "Episode: 8 Total reward: -21.0 Explore P: 0.9803 Mean Training Loss 0.0023\n",
            "Episode: 9 Total reward: -21.0 Explore P: 0.9785 Mean Training Loss 0.0023\n",
            "Episode: 10 Total reward: -21.0 Explore P: 0.9767 Mean Training Loss 0.0018\n"
          ],
          "name": "stdout"
        },
        {
          "output_type": "display_data",
          "data": {
            "image/png": "[encoded data removed]",
            "text/plain": [
              "<Figure size 432x288 with 2 Axes>"
            ]
          },
          "metadata": {
            "tags": []
          }
        },
        {
          "output_type": "stream",
          "text": [
            "Episode: 11 Total reward: -21.0 Explore P: 0.9744 Mean Training Loss 0.0020\n",
            "Episode: 12 Total reward: -21.0 Explore P: 0.9726 Mean Training Loss 0.0015\n",
            "Episode: 13 Total reward: -21.0 Explore P: 0.9706 Mean Training Loss 0.0016\n",
            "Episode: 14 Total reward: -21.0 Explore P: 0.9687 Mean Training Loss 0.0014\n",
            "Episode: 15 Total reward: -20.0 Explore P: 0.9666 Mean Training Loss 0.0010\n",
            "Episode: 16 Total reward: -21.0 Explore P: 0.9648 Mean Training Loss 0.0013\n",
            "Episode: 17 Total reward: -19.0 Explore P: 0.9625 Mean Training Loss 0.0013\n",
            "Episode: 18 Total reward: -21.0 Explore P: 0.9609 Mean Training Loss 0.0013\n",
            "Episode: 19 Total reward: -20.0 Explore P: 0.9587 Mean Training Loss 0.0010\n",
            "Episode: 20 Total reward: -21.0 Explore P: 0.9568 Mean Training Loss 0.0011\n"
          ],
          "name": "stdout"
        },
        {
          "output_type": "display_data",
          "data": {
            "image/png": "[encoded data removed]",
            "text/plain": [
              "<Figure size 432x288 with 2 Axes>"
            ]
          },
          "metadata": {
            "tags": []
          }
        },
        {
          "output_type": "stream",
          "text": [
            "Episode: 21 Total reward: -20.0 Explore P: 0.9547 Mean Training Loss 0.0010\n",
            "Episode: 22 Total reward: -21.0 Explore P: 0.9527 Mean Training Loss 0.0009\n",
            "Episode: 23 Total reward: -20.0 Explore P: 0.9505 Mean Training Loss 0.0009\n",
            "Episode: 24 Total reward: -21.0 Explore P: 0.9486 Mean Training Loss 0.0011\n"
          ],
          "name": "stdout"
        }
      ]
    },
    {
      "cell_type": "code",
      "metadata": {
        "colab_type": "code",
        "deletable": true,
        "editable": true,
        "id": "NCe6oXs3nC-V",
        "colab": {}
      },
      "source": [
        "with open('trained_new_loss.pkl', 'wb') as f:\n",
        "    pickle.dump(agent, f)"
      ],
      "execution_count": 0,
      "outputs": []
    },
    {
      "cell_type": "code",
      "metadata": {
        "colab_type": "code",
        "deletable": true,
        "editable": true,
        "id": "I_P9nVCZ7BAN",
        "colab": {}
      },
      "source": [
        "with open('trained.pkl', 'rb') as f:\n",
        "    trained500 = pickle.load(f)"
      ],
      "execution_count": 0,
      "outputs": []
    },
    {
      "cell_type": "code",
      "metadata": {
        "colab_type": "code",
        "deletable": true,
        "editable": true,
        "id": "qq7-GON-SCUI",
        "colab": {}
      },
      "source": [
        ""
      ],
      "execution_count": 0,
      "outputs": []
    }
  ]
}